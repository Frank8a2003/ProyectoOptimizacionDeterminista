{
 "cells": [
  {
   "attachments": {},
   "cell_type": "markdown",
   "metadata": {},
   "source": [
    "# Entregable 3: Solución del problema"
   ]
  },
  {
   "attachments": {},
   "cell_type": "markdown",
   "metadata": {},
   "source": [
    "## Optimización determinista (Gpo 201)"
   ]
  },
  {
   "attachments": {},
   "cell_type": "markdown",
   "metadata": {},
   "source": [
    "Francisco Javier Chávez Ochoa A01641644 <br>\n",
    "Mayra Sarahí de Luna Castillo A01635774 <br>\n",
    "José Carlos Yamuni Contreras A01740285 <br>\n",
    "Diego Luna Maya A01026910 <br>"
   ]
  },
  {
   "attachments": {},
   "cell_type": "markdown",
   "metadata": {},
   "source": [
    "### Formulación del problema <br>\n",
    "\n",
    "En el presente proyecto trabajaremos en el problema University Scheduling Problem, con información brindada por el Instituto Tecnológico de Monterrey campus Ciudad de México para poder ayudar a realizar una programación de horarios que sea la mejor tanto para alumnos y maestros. Para poder resolver este problema, utilizaremos la optimización determinística usando el software de Gurobi que nos ayudará a dar solución a este problema. \n",
    "\n",
    "El modelo que utilizaremos es un modelo ideal, donde omitimos variables aleatorias que pueden afectar a nuestro modelo, por lo que en la vida real, este modelo no es muy factible de aplicar. \n",
    "\n",
    "Los datos que consideraremos para este proyecto serán los siguientes:\n",
    "\n",
    "- Datos profesores ( cip, nombre, nómina y correo).\n",
    "\n",
    "- Disponibilidad de profesores ( días y horas ).\n",
    "\n",
    "- Claves a programar.\n",
    "\n",
    "- Número de grupos de cada clave.\n",
    "\n",
    "- Cupo máximo en cada grupo. Depende del salon: En promedio 30 alumnos en bloques y 35 en materias.\n",
    "\n",
    "- Rango de horario en el que se pueden programar los grupos\n",
    "\n",
    "- Conteo de la carga máxima semestral de cada profesor: 10 unidades de carga para cátedra y 14 para planta. El profesor investigador tiene 7. \n",
    "\n",
    "Los objetivos para este proyecto son:\n",
    "\n",
    "- Revisar que no haya empalmes \n",
    "\n",
    "- Acomodar los paquetes ( conjunto de bloques y materias de manera uniforme para que el alumno tenga el mínimo de horas muertas entre clases. Los paquetes también deberían ayudar a que los profesores tuvieran un horario matutino o vespertino).\n",
    "\n",
    "\n",
    "Para este problema vamos a considerar un modelo ideal, donde no hay problemas del tipo:\n",
    "\n",
    "- Se inscriben más alumnos de lo esperado.\n",
    "- Llegan menos alumnos de lo esperado.\n",
    "- Algún profesor deja el grupo de último momento.\n"
   ]
  },
  {
   "attachments": {},
   "cell_type": "markdown",
   "metadata": {},
   "source": [
    "**Investigación sobre el problema University Scheduling Problem e identificar las posibles variables de decisión y parámetros.**\n",
    "\n",
    "En el artículo  “Solving the university class scheduling problem using advanced ILP techniques” realizado por los autores Ahmed Wasfy y Fadi A. Alouse habla sobre la dificultad del problema (UCSP) University Class Scheduling Problem ya que se tiene que tomar en cuenta muchas variables como la cantidad de cursos que se ofrecen, la cantidad de alumnos máximos en cada curso, los profesores disponibles, los horarios disponibles, la cantidad de alumnos, entre otros. Lo que queremos saber en este entregable es si el profesor es asignado a un salón, a una materia y a un horario, está sería nuestra principal variable de decisión. \n",
    "\n",
    "$$ X_{ijk}= El \\quad profesor \\quad que \\quad se \\quad asignó \\quad a \\quad una \\quad materia \\quad i, \\quad un \\quad horario \\quad j \\quad y \\quad un \\quad salón \\quad k $$\n",
    "\n",
    "Para este problema se necesitan tener en cuenta diferentes parámetros o restricciones en el caso del reto nosotros propusimos los siguientes: \n",
    "\n",
    "**Parámetros de la Programación AD2023**\n",
    "- Nombre de la Materia \n",
    "- Si es dada en Inglés\n",
    "- Número de Grupo\n",
    "- Avenida/Entrada\n",
    "- Tipo UF\n",
    "- Número de paquete \n",
    "- Número de semestre\n",
    "- Horario \n",
    "- Dia de la semana \n",
    "- Periodos de duración\n",
    "- Nómina\n",
    "- Si es profesor de física\n",
    "- Si es profesor de matemáticas y química \n",
    "- Si es profesor computación\n",
    "- Si es profesor de reto\n",
    "- Si es profesor Avenida\n",
    "- Tipo de Módulo\n",
    "- Horas asignadas a cada materia \n",
    "\n",
    "**Parámetros de los Profesores**\n",
    "- Nombre del Profesor\n",
    "- Tipo de Contrato\n",
    "- Área de Enseñanza  \n",
    "- Carga Semestral\n",
    "- Si maneja Inglés o no\n",
    "\n",
    "Se necesitan ambos tipos de parámetros o restricciones para lograr acomodar de manera adecuada a los profesores, y evitar tener problemas al momento de asignarlos, es decir que a los profesores de matemáticas den clase de matemáticas, los profesores que saben inglés den clases en inglés, etc."
   ]
  },
  {
   "attachments": {},
   "cell_type": "markdown",
   "metadata": {},
   "source": [
    "**Algoritmos heurísticos y ejemplo de formulación de un problema de asignación**\n",
    "\n",
    "A lo largo de los años, el uso de algoritmos de búsqueda local ha sido bastante común para resolver problemas de asignación. Uno de los algoritmos más utilizados es el recocido simulado, el cual combina los otros algoritmos como escalada simple y caminata aleatoria. Sin embargo, estos no garantizan encontrar la solución óptima o comprobar la insatisfacibilidad de un problema. Por otro lado, la programación lineal entera si es capaz de realizar esta tarea de forma completa. \n",
    "Un problema de asignación, puede ser formulado a través de satisfacción booleana. En este tipo de problemas se utilizan algoritmos de programación lineal entera con variables categóricas, es decir, que toman únicamente valores de 0 o 1. El motivo por el que se utilizan variables categóricas es facilitar la formulación de las restricciones a las que estará sujeta el problema en cuestión. \n",
    "Por ejemplo, si se quieren asignar n cursos en m salones. Tenemos lo siguiente:\n",
    "    \n",
    "$$ X_{ij} = 1:\\quad si \\quad el \\quad curso \\quad i \\quad es \\quad asignado \\quad al  \\quad salón \\quad j. \\quad 0: \\quad caso \\quad contrario $$\n",
    "\n",
    "Algunas restricciones básicas para este problema sería las siguientes:\n",
    "Cada curso debe ser asignado a un salón. Esto nos da la siguiente restricción.\n",
    "\n",
    "$$ \\sum_{j=1}^{m} X_{ij} = 1 \\qquad \\forall i $$\n",
    "\n",
    "Cada salón debe estar asignado a máximo un curso. Esto nos da la siguiente restricción. \n",
    "\n",
    "$$ \\sum_{j=1}^{m} X_{ij} \\leq 1 \\qquad \\forall i $$\n",
    "\n",
    "La capacidad del salón debe ser igual o mayor a los alumnos inscritos en el curso. Esto nos da la siguiente restricción.\n",
    "\n",
    "$$ \\sum_{j \\in T} X_{ij} = 0 \\qquad \\forall i $$\n",
    "\n",
    "Donde T son los salones con menor capacidad que la cantidad de estudiantes.\n",
    "\n",
    "En este ejemplo, buscaríamos minimizar el ratio de capacidad de salón por número de estudiantes, lo cual representaremos con la letra c. Esto se puede expresar con la siguiente función objetivo:\n",
    "\n",
    "$$ min\\sum cX_{ij} \\qquad \\forall i, \\quad \\forall j $$\n"
   ]
  },
  {
   "attachments": {},
   "cell_type": "markdown",
   "metadata": {},
   "source": [
    "### Explicación de nuestro modelo para resolver la problemática"
   ]
  },
  {
   "attachments": {},
   "cell_type": "markdown",
   "metadata": {},
   "source": [
    "**Variables de Decisión**\n",
    "\n",
    "\n",
    "\n",
    "$$x_{ijk} =\\begin{cases}\n",
    "1 & \\text{Profesor $i$ asignado a la clase $j$ en el horario $k$. } \\\\  \n",
    "0 & \\text{Caso contrario}\n",
    "\\end{cases}$$\n",
    "\n",
    "$$y_{i}=\\begin{cases}\n",
    "1 & \\text{Si existe algún $(j,k)$, tal que } x_{ijk}=1 \\\\ \n",
    "0 & \\text{Caso contrario}\n",
    "\\end{cases}$$\n",
    "\n",
    "$$z_{ij}=\\begin{cases}\n",
    " 1 & \\text{Si el profesor $i$ fue asignado a la clase $j$.} \\\\ \n",
    " 0 & \\text{Caso contrario.} \n",
    "\\end{cases}$$"
   ]
  },
  {
   "attachments": {},
   "cell_type": "markdown",
   "metadata": {},
   "source": [
    "**Explicación de Horarios**\n",
    "\n",
    "Los diferentes días y horas en las que se dan las clases se acomodan en horarios fijos, en este caso tendremos 20 horarios distintos, de lunes a viernes de 7:00 am-15:00 pm, se decidió dividir los horarios en bloques de dos horas para tener mayor control sobre la repartición de horas, además tomando en cuenta que todas las materias tienen clases de duración par.\n",
    "\n",
    "- Lunes 7:00 am-9:00 am\n",
    "- Lunes 9:00 am-11:00 am\n",
    "- Lunes 11:00 am-13:00 pm\n",
    "- Lunes 13:00 pm-15:00 pm\n",
    "- Martes 7:00 am-9:00 am\n",
    "- Martes 9:00 am-11:00 am\n",
    "- Martes 11:00 am-13:00 pm\n",
    "- Martes 13:00 pm-15:00 pm\n",
    "- Miércoles 7:00 am-9:00 am\n",
    "- Miércoles 9:00 am-11:00 am\n",
    "- Miércoles 11:00 am-13:00 pm\n",
    "- Miércoles 13:00 pm-15:00 pm\n",
    "- Jueves 7:00 am-9:00 am\n",
    "- Jueves 9:00 am-11:00 am\n",
    "- Jueves 11:00 am-13:00 pm\n",
    "- Jueves 13:00 pm-15:00 pm\n",
    "- Viernes 7:00 am-9:00 am\n",
    "- Viernes 9:00 am-11:00 am\n",
    "- Viernes 11:00 am-13:00 pm\n",
    "- Viernes 13:00 pm-15:00 pm"
   ]
  },
  {
   "attachments": {},
   "cell_type": "markdown",
   "metadata": {},
   "source": [
    "### Solución del problema utilizando Gurobipy"
   ]
  },
  {
   "attachments": {},
   "cell_type": "markdown",
   "metadata": {},
   "source": [
    "**Casos de prueba**"
   ]
  },
  {
   "attachments": {},
   "cell_type": "markdown",
   "metadata": {},
   "source": [
    "*Correr esta celda para la instancia completa*"
   ]
  },
  {
   "cell_type": "code",
   "execution_count": 86,
   "metadata": {},
   "outputs": [
    {
     "name": "stdout",
     "output_type": "stream",
     "text": [
      "[['1', 1, 'M', 7, '1401'], ['2', 0, 'Q', 17, '1402'], ['3', 0, 'F-C', 12, '1406'], ['4', 0, 'Q', 20, '2102'], ['5', 0, 'R', 5, '2201'], ['6', 0, 'M-F', 13, '2202'], ['7', 1, 'Q', 9, '2403'], ['8', 0, 'M', 9, '2404'], ['9', 1, 'M-C', 19, '2405'], ['10', 0, 'R', 5, '2408'], ['11', 0, 'M', 16, '2409'], ['12', 0, 'R', 4, '3102'], ['13', 0, 'M-C', 19, '3103'], ['14', 0, 'R-C', 9, '3104'], ['15', 0, 'M-C', 16, '3201'], ['16', 1, 'M', 6, '3202'], ['17', 0, 'F-M', 4, '3302'], ['18', 0, 'M-Q', 5, '3303'], ['19', 0, 'R-C', 9, '3304'], ['20', 1, 'F', 18, '3402'], ['21', 0, 'R-C', 9, '3403'], ['22', 0, 'F', 5, '3405'], ['23', 0, 'Q', 27, '3406'], ['24', 0, 'M-C', 9, '3407'], ['25', 1, 'Q', 23, '3408'], ['26', 0, 'M', 14, '3410'], ['27', 1, 'F-C', 19, '4203'], ['28', 0, 'F-M', 17, '4204'], ['29', 1, 'R', 7, '4205'], ['30', 0, 'M', 16, '4301'], ['31', 0, 'M', 13, '4302'], ['32', 1, 'R', 4, '4303'], ['33', 0, 'M', 7, '4304'], ['34', 0, 'Q', 5, '4305'], ['35', 0, 'M', 5, '4402'], ['36', 0, 'Q', 19, '2405'], ['37', 1, 'F', 13, '2408'], ['38', 0, 'R', 5, '2409'], ['39', 0, 'F-M', 15, '3102'], ['40', 0, 'M', 5, '3103'], ['41', 0, 'F-C', 19, '3104'], ['42', 1, 'F', 13, '3201'], ['43', 0, 'R', 3, '3202'], ['44', 1, 'M', 5, '3302'], ['45', 0, 'F-C', 16, '3303'], ['46', 0, 'Q', 3, '3304'], ['47', 0, 'F-M', 4, '3402'], ['48', 0, 'M', 13, '3403'], ['49', 1, 'R', 5, '3405'], ['50', 0, 'R', 5, '3406'], ['51', 0, 'M', 21, '6201'], ['52', 0, 'C', 19, '6202'], ['53', 0, 'Q', 1, '6203'], ['54', 0, 'F', 14, '6204'], ['55', 0, 'Q', 9, '6205'], ['56', 0, 'F', 3, '6206'], ['57', 0, 'M-C', 18, '1401'], ['58', 0, 'F', 13, '1402'], ['59', 0, 'M', 19, '1406'], ['60', 0, 'M', 17, '2102'], ['61', 0, 'Q', 16, '2201'], ['62', 0, 'M-C', 14, '2202'], ['63', 0, 'M', 9, '2403'], ['64', 0, 'M', 15, '2404'], ['65', 0, 'F-M', 13, '2405'], ['66', 0, 'M', 19, '2408'], ['67', 0, 'F', 16, '2409'], ['68', 0, 'F-C', 3, '3102'], ['69', 0, 'Q', 4, '3103'], ['70', 0, 'M-R', 5, '6206']]\n"
     ]
    }
   ],
   "source": [
    "import csv\n",
    "\n",
    "#Importacion del archivo profesores\n",
    "#[Clave,Ingles, Especialidad, Numero maximo de horas]\n",
    "\n",
    "profesores=[]\n",
    "with open('Profesores-NUEVO.csv', newline='') as archivo_csv:\n",
    "    lector_csv = csv.reader(archivo_csv, delimiter=',')\n",
    "    for fila in lector_csv:\n",
    "        \n",
    "        fila[1]=int(fila[1])\n",
    "        fila[3]=int(fila[3])\n",
    "        profesores.append(fila)\n",
    "\n",
    "\n",
    "\n",
    "\n",
    "print(profesores)\n",
    "#Importación del archivo clases\n",
    "\n",
    "#[Clave,Ingles, Avenida, Horas]\n",
    "\n",
    "clases=[]\n",
    "with open('Clases.csv', newline='') as archivo_csv:\n",
    "    lector_csv = csv.reader(archivo_csv, delimiter=',')\n",
    "    for fila in lector_csv:\n",
    "    \n",
    "        fila[1]=int(fila[1])\n",
    "        fila[3]=int(fila[3])\n",
    "        \n",
    "        clases.append(fila)\n",
    "\n"
   ]
  },
  {
   "attachments": {},
   "cell_type": "markdown",
   "metadata": {},
   "source": [
    "*Caso de prueba pequeño*"
   ]
  },
  {
   "cell_type": "code",
   "execution_count": 1,
   "metadata": {},
   "outputs": [
    {
     "name": "stdout",
     "output_type": "stream",
     "text": [
      "[['9', 1, 'M-C', 19], ['14', 0, 'R-C', 9], ['25', 1, 'Q', 23], ['27', 1, 'F-C', 19], ['51', 0, 'M', 21]]\n"
     ]
    }
   ],
   "source": [
    "import csv\n",
    "\n",
    "#Importacion del archivo profesores\n",
    "#[Clave,Ingles, Especialidad, Numero maximo de horas]\n",
    "\n",
    "profesores=[]\n",
    "with open('Profesores-NUEVO2.csv', newline='') as archivo_csv:\n",
    "    lector_csv = csv.reader(archivo_csv, delimiter=',')\n",
    "    for fila in lector_csv:\n",
    "        \n",
    "        fila[1]=int(fila[1])\n",
    "        fila[3]=int(fila[3])\n",
    "        profesores.append(fila)\n",
    "\n",
    "\n",
    "\n",
    "\n",
    "print(profesores)\n",
    "#Importación del archivo clases\n",
    "\n",
    "#[Clave,Ingles, Avenida, Horas]\n",
    "\n",
    "clases=[]\n",
    "with open('Clases2.csv', newline='') as archivo_csv:\n",
    "    lector_csv = csv.reader(archivo_csv, delimiter=',')\n",
    "    for fila in lector_csv:\n",
    "    \n",
    "        fila[1]=int(fila[1])\n",
    "        fila[3]=int(fila[3])\n",
    "        \n",
    "        clases.append(fila)\n"
   ]
  },
  {
   "attachments": {},
   "cell_type": "markdown",
   "metadata": {},
   "source": [
    "Prueba 1"
   ]
  },
  {
   "cell_type": "code",
   "execution_count": 59,
   "metadata": {},
   "outputs": [],
   "source": [
    "clases=[[\"1\",0,\"M\",12], [\"2\",0,\"M\",12]]\n",
    "profesores=[[\"1\",0,\"M\",25], [\"2\",0,\"Q\",25]]"
   ]
  },
  {
   "attachments": {},
   "cell_type": "markdown",
   "metadata": {},
   "source": [
    "Prueba 2 "
   ]
  },
  {
   "cell_type": "code",
   "execution_count": 10,
   "metadata": {},
   "outputs": [],
   "source": [
    "import random\n",
    "\n",
    "clases=[['143', 0, 'M', 4], ['29', 0, 'R', 4], ['216', 0, 'Q', 4], ['10', 0, 'R', 12], ['168', 0, 'M', 4], ['103', 0, 'M', 12], ['23', 0, 'R', 4], ['180', 0, 'Q', 4], ['168', 0, 'M', 4], ['160', 0, 'F', 4], ['157', 0, 'F', 4], ['153', 0, 'F', 4]]\n",
    "profesores=[['40', 0, 'M', 80], ['58', 0, 'F', 200], ['29', 1, 'R', 100], ['58', 0, 'F', 200], ['6', 0, 'M-F', 196]]\n"
   ]
  },
  {
   "attachments": {},
   "cell_type": "markdown",
   "metadata": {},
   "source": [
    "Prueba 3"
   ]
  },
  {
   "cell_type": "code",
   "execution_count": 77,
   "metadata": {},
   "outputs": [],
   "source": [
    "\n",
    "clases=[['72', 0, 'F', 8], ['151', 0, 'F', 4], ['145', 0, 'M', 4], ['135', 1, 'M', 4], ['86', 0, 'F', 8], ['109', 0, 'M', 4], ['3', 0, 'R', 12], ['143', 0, 'M', 4], ['180', 0, 'Q', 4]]\n",
    "profesores= [['31', 0, 'M', 190], ['69', 0, 'Q', 60], ['18', 0, 'M-Q', 80], ['57', 0, 'M-C', 270], ['65', 0, 'F-M', 190]]"
   ]
  },
  {
   "attachments": {},
   "cell_type": "markdown",
   "metadata": {},
   "source": [
    "Prueba 4 "
   ]
  },
  {
   "cell_type": "code",
   "execution_count": 62,
   "metadata": {},
   "outputs": [],
   "source": [
    "clases=[['135', 1, 'M', 4], ['203', 0, 'Q', 4], ['193', 1, 'Q', 4], ['15', 0, 'R', 12], ['107', 0, 'M', 4], ['92', 0, 'F', 8], ['3', 0, 'R', 12], ['25', 0, 'R', 4], ['215', 0, 'Q', 4], ['216', 0, 'Q', 4], ['138', 0, 'M', 4], ['183', 0, 'Q', 4]]\n",
    "profesores=[['9', 1, 'M-C', 280], ['12', 0, 'R', 60], ['61', 0, 'Q', 240], ['38', 0, 'R', 70], ['3', 0, 'F-C', 182]]\n"
   ]
  },
  {
   "attachments": {},
   "cell_type": "markdown",
   "metadata": {},
   "source": [
    "Prueba 5 \n"
   ]
  },
  {
   "cell_type": "code",
   "execution_count": 147,
   "metadata": {},
   "outputs": [],
   "source": [
    "clases=[['11', 1, 'R', 12],  ['64', 0, 'F', 8], ['121', 0, 'M', 4], ['66', 0, 'F', 8], ['167', 0, 'M', 4], ['206', 0, 'R', 4], ['16', 0, 'R', 12]]\n",
    "profesores=[['45', 0, 'F-C', 240], ['20', 1, 'R', 270], ['47', 0, 'F-M', 60], ['21', 0, 'R-C', 140], ['14', 0, 'R-C', 140]]\n",
    "\n"
   ]
  },
  {
   "attachments": {},
   "cell_type": "markdown",
   "metadata": {},
   "source": [
    "Prueba 6 "
   ]
  },
  {
   "cell_type": "code",
   "execution_count": 189,
   "metadata": {},
   "outputs": [],
   "source": [
    "clases=[['214', 0, 'Q', 4], ['175', 0, 'Q', 4],  ['7', 0, 'R', 12], ['207', 1, 'Q', 4], ['162', 0, 'M', 4], ['39', 0, 'C', 4], ['17', 0, 'R', 12], ['104', 0, 'M', 4], ['83', 0, 'C', 4], ['183', 0, 'Q', 4]]\n",
    "profesores=[['68', 0, 'F-C', 40], ['1', 1, 'M', 106], ['17', 0, 'F-M', 60], ['42', 1, 'F', 194], ['54', 0, 'F', 206]]\n",
    "\n"
   ]
  },
  {
   "attachments": {},
   "cell_type": "markdown",
   "metadata": {},
   "source": [
    "**Modelo**"
   ]
  },
  {
   "attachments": {},
   "cell_type": "markdown",
   "metadata": {},
   "source": [
    "*Correr todo de esta celda para abajo*"
   ]
  },
  {
   "cell_type": "code",
   "execution_count": 36,
   "metadata": {},
   "outputs": [],
   "source": [
    "class_info=[]\n",
    "with open('Clases.csv', newline='') as archivo_csv:\n",
    "    lector_csv = csv.reader(archivo_csv, delimiter=',')\n",
    "    for fila in lector_csv:\n",
    "    \n",
    "        \n",
    "        fila[1]=int(fila[1])\n",
    "        fila[3]=int(fila[3])\n",
    "        \n",
    "        class_info.append(fila)\n",
    "\n",
    "\n",
    "profesores_info=[]\n",
    "with open('Profesores-NUEVO.csv', newline='') as archivo_csv:\n",
    "    lector_csv = csv.reader(archivo_csv, delimiter=',')\n",
    "    for fila in lector_csv:\n",
    "    \n",
    "        \n",
    "        fila[1]=int(fila[1])\n",
    "        fila[3]=int(fila[3])\n",
    "        \n",
    "        profesores_info.append(fila)"
   ]
  },
  {
   "cell_type": "code",
   "execution_count": 37,
   "metadata": {},
   "outputs": [],
   "source": [
    "decode_hor= [\"Lunes 7:00 am-9:00 am\",\"Lunes 9:00 am-11:00 am\",\"Lunes 11:00 am-1:00 pm\",\"Lunes 1:00 pm-3:00 pm\",\"Martes 7:00 am-9:00 am\",\n",
    "\"Martes 9:00 am-11:00 am\",\"Martes 11:00 am-1:00 pm\",\"Martes 1:00 pm-13:00 pm\",\"Miércoles 7:00 am-9:00 am\",\"Miércoles 9:00 am-11:00 am\",\n",
    "\"Miércoles 11:00 am-1:00 pm\", \"Miércoles 1:00 pm-3:00 pm\",\"Jueves 7:00 am-9:00 am\",\"Jueves 9:00 am-11:00 am\",\"Jueves 11:00 am-1:00 pm\",\n",
    "\"Jueves 1:00 pm-3:00 pm\", \"Viernes 7:00 am-9:00 am\",\"Viernes 9:00 am-11:00 am\", \"Viernes 11:00 am-1:00 pm\",\"Viernes 1:00 pm-3:00 pm\"]\n",
    "\n"
   ]
  },
  {
   "attachments": {},
   "cell_type": "markdown",
   "metadata": {},
   "source": [
    "**Diccionarios de los profesores y las clases con toda su información relevante**"
   ]
  },
  {
   "cell_type": "code",
   "execution_count": 38,
   "metadata": {},
   "outputs": [],
   "source": [
    "#Creamos un diccionario con las definiciones de profesores y clases para abreviar\n",
    "\n",
    "#Profesor 1: \n",
    "dic_prof={}\n",
    "str=\"Profesor_\"\n",
    "for i in profesores:\n",
    "    dic_prof[str+i[0]]=i\n",
    "\n",
    "#Profesor 1:  [id,ingles, area,carga ]\n",
    "\n",
    "dic_class={}\n",
    "str=\"Clase_\"\n",
    "for i in clases:\n",
    "    dic_class[str+i[0]]=i\n",
    "\n",
    "#Clase 1:  [id,ingles,avenida, horas semanales]\n",
    "\n",
    "\n",
    "#Decoding\n",
    "\n",
    "dic_decode={}\n",
    "str=\"Clase_\"\n",
    "for i in class_info:\n",
    "    dic_decode[str+i[0]]=i\n",
    "\n",
    "\n",
    "\n",
    "dic_decode_prof={ }\n",
    "str=\"Profesor_\"\n",
    "for i in profesores_info :\n",
    "    dic_decode_prof[str+i[0]]=i\n",
    "\n",
    "\n"
   ]
  },
  {
   "attachments": {},
   "cell_type": "markdown",
   "metadata": {},
   "source": [
    "**Creación de tercias (Profesores, Clases, Horarios)**"
   ]
  },
  {
   "cell_type": "code",
   "execution_count": 39,
   "metadata": {},
   "outputs": [
    {
     "name": "stdout",
     "output_type": "stream",
     "text": [
      "[('Profesor_9', 'Clase_23', 1), ('Profesor_9', 'Clase_23', 2), ('Profesor_9', 'Clase_23', 3), ('Profesor_9', 'Clase_23', 4), ('Profesor_9', 'Clase_23', 5), ('Profesor_9', 'Clase_23', 6), ('Profesor_9', 'Clase_23', 7), ('Profesor_9', 'Clase_23', 8), ('Profesor_9', 'Clase_23', 9), ('Profesor_9', 'Clase_23', 10), ('Profesor_9', 'Clase_23', 11), ('Profesor_9', 'Clase_23', 12), ('Profesor_9', 'Clase_23', 13), ('Profesor_9', 'Clase_23', 14), ('Profesor_9', 'Clase_23', 15), ('Profesor_9', 'Clase_23', 16), ('Profesor_9', 'Clase_23', 17), ('Profesor_9', 'Clase_23', 18), ('Profesor_9', 'Clase_23', 19), ('Profesor_9', 'Clase_23', 20), ('Profesor_9', 'Clase_25', 1), ('Profesor_9', 'Clase_25', 2), ('Profesor_9', 'Clase_25', 3), ('Profesor_9', 'Clase_25', 4), ('Profesor_9', 'Clase_25', 5), ('Profesor_9', 'Clase_25', 6), ('Profesor_9', 'Clase_25', 7), ('Profesor_9', 'Clase_25', 8), ('Profesor_9', 'Clase_25', 9), ('Profesor_9', 'Clase_25', 10), ('Profesor_9', 'Clase_25', 11), ('Profesor_9', 'Clase_25', 12), ('Profesor_9', 'Clase_25', 13), ('Profesor_9', 'Clase_25', 14), ('Profesor_9', 'Clase_25', 15), ('Profesor_9', 'Clase_25', 16), ('Profesor_9', 'Clase_25', 17), ('Profesor_9', 'Clase_25', 18), ('Profesor_9', 'Clase_25', 19), ('Profesor_9', 'Clase_25', 20), ('Profesor_9', 'Clase_34', 1), ('Profesor_9', 'Clase_34', 2), ('Profesor_9', 'Clase_34', 3), ('Profesor_9', 'Clase_34', 4), ('Profesor_9', 'Clase_34', 5), ('Profesor_9', 'Clase_34', 6), ('Profesor_9', 'Clase_34', 7), ('Profesor_9', 'Clase_34', 8), ('Profesor_9', 'Clase_34', 9), ('Profesor_9', 'Clase_34', 10), ('Profesor_9', 'Clase_34', 11), ('Profesor_9', 'Clase_34', 12), ('Profesor_9', 'Clase_34', 13), ('Profesor_9', 'Clase_34', 14), ('Profesor_9', 'Clase_34', 15), ('Profesor_9', 'Clase_34', 16), ('Profesor_9', 'Clase_34', 17), ('Profesor_9', 'Clase_34', 18), ('Profesor_9', 'Clase_34', 19), ('Profesor_9', 'Clase_34', 20), ('Profesor_9', 'Clase_42', 1), ('Profesor_9', 'Clase_42', 2), ('Profesor_9', 'Clase_42', 3), ('Profesor_9', 'Clase_42', 4), ('Profesor_9', 'Clase_42', 5), ('Profesor_9', 'Clase_42', 6), ('Profesor_9', 'Clase_42', 7), ('Profesor_9', 'Clase_42', 8), ('Profesor_9', 'Clase_42', 9), ('Profesor_9', 'Clase_42', 10), ('Profesor_9', 'Clase_42', 11), ('Profesor_9', 'Clase_42', 12), ('Profesor_9', 'Clase_42', 13), ('Profesor_9', 'Clase_42', 14), ('Profesor_9', 'Clase_42', 15), ('Profesor_9', 'Clase_42', 16), ('Profesor_9', 'Clase_42', 17), ('Profesor_9', 'Clase_42', 18), ('Profesor_9', 'Clase_42', 19), ('Profesor_9', 'Clase_42', 20), ('Profesor_9', 'Clase_62', 1), ('Profesor_9', 'Clase_62', 2), ('Profesor_9', 'Clase_62', 3), ('Profesor_9', 'Clase_62', 4), ('Profesor_9', 'Clase_62', 5), ('Profesor_9', 'Clase_62', 6), ('Profesor_9', 'Clase_62', 7), ('Profesor_9', 'Clase_62', 8), ('Profesor_9', 'Clase_62', 9), ('Profesor_9', 'Clase_62', 10), ('Profesor_9', 'Clase_62', 11), ('Profesor_9', 'Clase_62', 12), ('Profesor_9', 'Clase_62', 13), ('Profesor_9', 'Clase_62', 14), ('Profesor_9', 'Clase_62', 15), ('Profesor_9', 'Clase_62', 16), ('Profesor_9', 'Clase_62', 17), ('Profesor_9', 'Clase_62', 18), ('Profesor_9', 'Clase_62', 19), ('Profesor_9', 'Clase_62', 20), ('Profesor_9', 'Clase_68', 1), ('Profesor_9', 'Clase_68', 2), ('Profesor_9', 'Clase_68', 3), ('Profesor_9', 'Clase_68', 4), ('Profesor_9', 'Clase_68', 5), ('Profesor_9', 'Clase_68', 6), ('Profesor_9', 'Clase_68', 7), ('Profesor_9', 'Clase_68', 8), ('Profesor_9', 'Clase_68', 9), ('Profesor_9', 'Clase_68', 10), ('Profesor_9', 'Clase_68', 11), ('Profesor_9', 'Clase_68', 12), ('Profesor_9', 'Clase_68', 13), ('Profesor_9', 'Clase_68', 14), ('Profesor_9', 'Clase_68', 15), ('Profesor_9', 'Clase_68', 16), ('Profesor_9', 'Clase_68', 17), ('Profesor_9', 'Clase_68', 18), ('Profesor_9', 'Clase_68', 19), ('Profesor_9', 'Clase_68', 20), ('Profesor_9', 'Clase_95', 1), ('Profesor_9', 'Clase_95', 2), ('Profesor_9', 'Clase_95', 3), ('Profesor_9', 'Clase_95', 4), ('Profesor_9', 'Clase_95', 5), ('Profesor_9', 'Clase_95', 6), ('Profesor_9', 'Clase_95', 7), ('Profesor_9', 'Clase_95', 8), ('Profesor_9', 'Clase_95', 9), ('Profesor_9', 'Clase_95', 10), ('Profesor_9', 'Clase_95', 11), ('Profesor_9', 'Clase_95', 12), ('Profesor_9', 'Clase_95', 13), ('Profesor_9', 'Clase_95', 14), ('Profesor_9', 'Clase_95', 15), ('Profesor_9', 'Clase_95', 16), ('Profesor_9', 'Clase_95', 17), ('Profesor_9', 'Clase_95', 18), ('Profesor_9', 'Clase_95', 19), ('Profesor_9', 'Clase_95', 20), ('Profesor_9', 'Clase_102', 1), ('Profesor_9', 'Clase_102', 2), ('Profesor_9', 'Clase_102', 3), ('Profesor_9', 'Clase_102', 4), ('Profesor_9', 'Clase_102', 5), ('Profesor_9', 'Clase_102', 6), ('Profesor_9', 'Clase_102', 7), ('Profesor_9', 'Clase_102', 8), ('Profesor_9', 'Clase_102', 9), ('Profesor_9', 'Clase_102', 10), ('Profesor_9', 'Clase_102', 11), ('Profesor_9', 'Clase_102', 12), ('Profesor_9', 'Clase_102', 13), ('Profesor_9', 'Clase_102', 14), ('Profesor_9', 'Clase_102', 15), ('Profesor_9', 'Clase_102', 16), ('Profesor_9', 'Clase_102', 17), ('Profesor_9', 'Clase_102', 18), ('Profesor_9', 'Clase_102', 19), ('Profesor_9', 'Clase_102', 20), ('Profesor_9', 'Clase_144', 1), ('Profesor_9', 'Clase_144', 2), ('Profesor_9', 'Clase_144', 3), ('Profesor_9', 'Clase_144', 4), ('Profesor_9', 'Clase_144', 5), ('Profesor_9', 'Clase_144', 6), ('Profesor_9', 'Clase_144', 7), ('Profesor_9', 'Clase_144', 8), ('Profesor_9', 'Clase_144', 9), ('Profesor_9', 'Clase_144', 10), ('Profesor_9', 'Clase_144', 11), ('Profesor_9', 'Clase_144', 12), ('Profesor_9', 'Clase_144', 13), ('Profesor_9', 'Clase_144', 14), ('Profesor_9', 'Clase_144', 15), ('Profesor_9', 'Clase_144', 16), ('Profesor_9', 'Clase_144', 17), ('Profesor_9', 'Clase_144', 18), ('Profesor_9', 'Clase_144', 19), ('Profesor_9', 'Clase_144', 20), ('Profesor_9', 'Clase_187', 1), ('Profesor_9', 'Clase_187', 2), ('Profesor_9', 'Clase_187', 3), ('Profesor_9', 'Clase_187', 4), ('Profesor_9', 'Clase_187', 5), ('Profesor_9', 'Clase_187', 6), ('Profesor_9', 'Clase_187', 7), ('Profesor_9', 'Clase_187', 8), ('Profesor_9', 'Clase_187', 9), ('Profesor_9', 'Clase_187', 10), ('Profesor_9', 'Clase_187', 11), ('Profesor_9', 'Clase_187', 12), ('Profesor_9', 'Clase_187', 13), ('Profesor_9', 'Clase_187', 14), ('Profesor_9', 'Clase_187', 15), ('Profesor_9', 'Clase_187', 16), ('Profesor_9', 'Clase_187', 17), ('Profesor_9', 'Clase_187', 18), ('Profesor_9', 'Clase_187', 19), ('Profesor_9', 'Clase_187', 20), ('Profesor_9', 'Clase_194', 1), ('Profesor_9', 'Clase_194', 2), ('Profesor_9', 'Clase_194', 3), ('Profesor_9', 'Clase_194', 4), ('Profesor_9', 'Clase_194', 5), ('Profesor_9', 'Clase_194', 6), ('Profesor_9', 'Clase_194', 7), ('Profesor_9', 'Clase_194', 8), ('Profesor_9', 'Clase_194', 9), ('Profesor_9', 'Clase_194', 10), ('Profesor_9', 'Clase_194', 11), ('Profesor_9', 'Clase_194', 12), ('Profesor_9', 'Clase_194', 13), ('Profesor_9', 'Clase_194', 14), ('Profesor_9', 'Clase_194', 15), ('Profesor_9', 'Clase_194', 16), ('Profesor_9', 'Clase_194', 17), ('Profesor_9', 'Clase_194', 18), ('Profesor_9', 'Clase_194', 19), ('Profesor_9', 'Clase_194', 20), ('Profesor_9', 'Clase_200', 1), ('Profesor_9', 'Clase_200', 2), ('Profesor_9', 'Clase_200', 3), ('Profesor_9', 'Clase_200', 4), ('Profesor_9', 'Clase_200', 5), ('Profesor_9', 'Clase_200', 6), ('Profesor_9', 'Clase_200', 7), ('Profesor_9', 'Clase_200', 8), ('Profesor_9', 'Clase_200', 9), ('Profesor_9', 'Clase_200', 10), ('Profesor_9', 'Clase_200', 11), ('Profesor_9', 'Clase_200', 12), ('Profesor_9', 'Clase_200', 13), ('Profesor_9', 'Clase_200', 14), ('Profesor_9', 'Clase_200', 15), ('Profesor_9', 'Clase_200', 16), ('Profesor_9', 'Clase_200', 17), ('Profesor_9', 'Clase_200', 18), ('Profesor_9', 'Clase_200', 19), ('Profesor_9', 'Clase_200', 20), ('Profesor_14', 'Clase_23', 1), ('Profesor_14', 'Clase_23', 2), ('Profesor_14', 'Clase_23', 3), ('Profesor_14', 'Clase_23', 4), ('Profesor_14', 'Clase_23', 5), ('Profesor_14', 'Clase_23', 6), ('Profesor_14', 'Clase_23', 7), ('Profesor_14', 'Clase_23', 8), ('Profesor_14', 'Clase_23', 9), ('Profesor_14', 'Clase_23', 10), ('Profesor_14', 'Clase_23', 11), ('Profesor_14', 'Clase_23', 12), ('Profesor_14', 'Clase_23', 13), ('Profesor_14', 'Clase_23', 14), ('Profesor_14', 'Clase_23', 15), ('Profesor_14', 'Clase_23', 16), ('Profesor_14', 'Clase_23', 17), ('Profesor_14', 'Clase_23', 18), ('Profesor_14', 'Clase_23', 19), ('Profesor_14', 'Clase_23', 20), ('Profesor_14', 'Clase_25', 1), ('Profesor_14', 'Clase_25', 2), ('Profesor_14', 'Clase_25', 3), ('Profesor_14', 'Clase_25', 4), ('Profesor_14', 'Clase_25', 5), ('Profesor_14', 'Clase_25', 6), ('Profesor_14', 'Clase_25', 7), ('Profesor_14', 'Clase_25', 8), ('Profesor_14', 'Clase_25', 9), ('Profesor_14', 'Clase_25', 10), ('Profesor_14', 'Clase_25', 11), ('Profesor_14', 'Clase_25', 12), ('Profesor_14', 'Clase_25', 13), ('Profesor_14', 'Clase_25', 14), ('Profesor_14', 'Clase_25', 15), ('Profesor_14', 'Clase_25', 16), ('Profesor_14', 'Clase_25', 17), ('Profesor_14', 'Clase_25', 18), ('Profesor_14', 'Clase_25', 19), ('Profesor_14', 'Clase_25', 20), ('Profesor_14', 'Clase_34', 1), ('Profesor_14', 'Clase_34', 2), ('Profesor_14', 'Clase_34', 3), ('Profesor_14', 'Clase_34', 4), ('Profesor_14', 'Clase_34', 5), ('Profesor_14', 'Clase_34', 6), ('Profesor_14', 'Clase_34', 7), ('Profesor_14', 'Clase_34', 8), ('Profesor_14', 'Clase_34', 9), ('Profesor_14', 'Clase_34', 10), ('Profesor_14', 'Clase_34', 11), ('Profesor_14', 'Clase_34', 12), ('Profesor_14', 'Clase_34', 13), ('Profesor_14', 'Clase_34', 14), ('Profesor_14', 'Clase_34', 15), ('Profesor_14', 'Clase_34', 16), ('Profesor_14', 'Clase_34', 17), ('Profesor_14', 'Clase_34', 18), ('Profesor_14', 'Clase_34', 19), ('Profesor_14', 'Clase_34', 20), ('Profesor_14', 'Clase_42', 1), ('Profesor_14', 'Clase_42', 2), ('Profesor_14', 'Clase_42', 3), ('Profesor_14', 'Clase_42', 4), ('Profesor_14', 'Clase_42', 5), ('Profesor_14', 'Clase_42', 6), ('Profesor_14', 'Clase_42', 7), ('Profesor_14', 'Clase_42', 8), ('Profesor_14', 'Clase_42', 9), ('Profesor_14', 'Clase_42', 10), ('Profesor_14', 'Clase_42', 11), ('Profesor_14', 'Clase_42', 12), ('Profesor_14', 'Clase_42', 13), ('Profesor_14', 'Clase_42', 14), ('Profesor_14', 'Clase_42', 15), ('Profesor_14', 'Clase_42', 16), ('Profesor_14', 'Clase_42', 17), ('Profesor_14', 'Clase_42', 18), ('Profesor_14', 'Clase_42', 19), ('Profesor_14', 'Clase_42', 20), ('Profesor_14', 'Clase_62', 1), ('Profesor_14', 'Clase_62', 2), ('Profesor_14', 'Clase_62', 3), ('Profesor_14', 'Clase_62', 4), ('Profesor_14', 'Clase_62', 5), ('Profesor_14', 'Clase_62', 6), ('Profesor_14', 'Clase_62', 7), ('Profesor_14', 'Clase_62', 8), ('Profesor_14', 'Clase_62', 9), ('Profesor_14', 'Clase_62', 10), ('Profesor_14', 'Clase_62', 11), ('Profesor_14', 'Clase_62', 12), ('Profesor_14', 'Clase_62', 13), ('Profesor_14', 'Clase_62', 14), ('Profesor_14', 'Clase_62', 15), ('Profesor_14', 'Clase_62', 16), ('Profesor_14', 'Clase_62', 17), ('Profesor_14', 'Clase_62', 18), ('Profesor_14', 'Clase_62', 19), ('Profesor_14', 'Clase_62', 20), ('Profesor_14', 'Clase_68', 1), ('Profesor_14', 'Clase_68', 2), ('Profesor_14', 'Clase_68', 3), ('Profesor_14', 'Clase_68', 4), ('Profesor_14', 'Clase_68', 5), ('Profesor_14', 'Clase_68', 6), ('Profesor_14', 'Clase_68', 7), ('Profesor_14', 'Clase_68', 8), ('Profesor_14', 'Clase_68', 9), ('Profesor_14', 'Clase_68', 10), ('Profesor_14', 'Clase_68', 11), ('Profesor_14', 'Clase_68', 12), ('Profesor_14', 'Clase_68', 13), ('Profesor_14', 'Clase_68', 14), ('Profesor_14', 'Clase_68', 15), ('Profesor_14', 'Clase_68', 16), ('Profesor_14', 'Clase_68', 17), ('Profesor_14', 'Clase_68', 18), ('Profesor_14', 'Clase_68', 19), ('Profesor_14', 'Clase_68', 20), ('Profesor_14', 'Clase_95', 1), ('Profesor_14', 'Clase_95', 2), ('Profesor_14', 'Clase_95', 3), ('Profesor_14', 'Clase_95', 4), ('Profesor_14', 'Clase_95', 5), ('Profesor_14', 'Clase_95', 6), ('Profesor_14', 'Clase_95', 7), ('Profesor_14', 'Clase_95', 8), ('Profesor_14', 'Clase_95', 9), ('Profesor_14', 'Clase_95', 10), ('Profesor_14', 'Clase_95', 11), ('Profesor_14', 'Clase_95', 12), ('Profesor_14', 'Clase_95', 13), ('Profesor_14', 'Clase_95', 14), ('Profesor_14', 'Clase_95', 15), ('Profesor_14', 'Clase_95', 16), ('Profesor_14', 'Clase_95', 17), ('Profesor_14', 'Clase_95', 18), ('Profesor_14', 'Clase_95', 19), ('Profesor_14', 'Clase_95', 20), ('Profesor_14', 'Clase_102', 1), ('Profesor_14', 'Clase_102', 2), ('Profesor_14', 'Clase_102', 3), ('Profesor_14', 'Clase_102', 4), ('Profesor_14', 'Clase_102', 5), ('Profesor_14', 'Clase_102', 6), ('Profesor_14', 'Clase_102', 7), ('Profesor_14', 'Clase_102', 8), ('Profesor_14', 'Clase_102', 9), ('Profesor_14', 'Clase_102', 10), ('Profesor_14', 'Clase_102', 11), ('Profesor_14', 'Clase_102', 12), ('Profesor_14', 'Clase_102', 13), ('Profesor_14', 'Clase_102', 14), ('Profesor_14', 'Clase_102', 15), ('Profesor_14', 'Clase_102', 16), ('Profesor_14', 'Clase_102', 17), ('Profesor_14', 'Clase_102', 18), ('Profesor_14', 'Clase_102', 19), ('Profesor_14', 'Clase_102', 20), ('Profesor_14', 'Clase_144', 1), ('Profesor_14', 'Clase_144', 2), ('Profesor_14', 'Clase_144', 3), ('Profesor_14', 'Clase_144', 4), ('Profesor_14', 'Clase_144', 5), ('Profesor_14', 'Clase_144', 6), ('Profesor_14', 'Clase_144', 7), ('Profesor_14', 'Clase_144', 8), ('Profesor_14', 'Clase_144', 9), ('Profesor_14', 'Clase_144', 10), ('Profesor_14', 'Clase_144', 11), ('Profesor_14', 'Clase_144', 12), ('Profesor_14', 'Clase_144', 13), ('Profesor_14', 'Clase_144', 14), ('Profesor_14', 'Clase_144', 15), ('Profesor_14', 'Clase_144', 16), ('Profesor_14', 'Clase_144', 17), ('Profesor_14', 'Clase_144', 18), ('Profesor_14', 'Clase_144', 19), ('Profesor_14', 'Clase_144', 20), ('Profesor_14', 'Clase_187', 1), ('Profesor_14', 'Clase_187', 2), ('Profesor_14', 'Clase_187', 3), ('Profesor_14', 'Clase_187', 4), ('Profesor_14', 'Clase_187', 5), ('Profesor_14', 'Clase_187', 6), ('Profesor_14', 'Clase_187', 7), ('Profesor_14', 'Clase_187', 8), ('Profesor_14', 'Clase_187', 9), ('Profesor_14', 'Clase_187', 10), ('Profesor_14', 'Clase_187', 11), ('Profesor_14', 'Clase_187', 12), ('Profesor_14', 'Clase_187', 13), ('Profesor_14', 'Clase_187', 14), ('Profesor_14', 'Clase_187', 15), ('Profesor_14', 'Clase_187', 16), ('Profesor_14', 'Clase_187', 17), ('Profesor_14', 'Clase_187', 18), ('Profesor_14', 'Clase_187', 19), ('Profesor_14', 'Clase_187', 20), ('Profesor_14', 'Clase_194', 1), ('Profesor_14', 'Clase_194', 2), ('Profesor_14', 'Clase_194', 3), ('Profesor_14', 'Clase_194', 4), ('Profesor_14', 'Clase_194', 5), ('Profesor_14', 'Clase_194', 6), ('Profesor_14', 'Clase_194', 7), ('Profesor_14', 'Clase_194', 8), ('Profesor_14', 'Clase_194', 9), ('Profesor_14', 'Clase_194', 10), ('Profesor_14', 'Clase_194', 11), ('Profesor_14', 'Clase_194', 12), ('Profesor_14', 'Clase_194', 13), ('Profesor_14', 'Clase_194', 14), ('Profesor_14', 'Clase_194', 15), ('Profesor_14', 'Clase_194', 16), ('Profesor_14', 'Clase_194', 17), ('Profesor_14', 'Clase_194', 18), ('Profesor_14', 'Clase_194', 19), ('Profesor_14', 'Clase_194', 20), ('Profesor_14', 'Clase_200', 1), ('Profesor_14', 'Clase_200', 2), ('Profesor_14', 'Clase_200', 3), ('Profesor_14', 'Clase_200', 4), ('Profesor_14', 'Clase_200', 5), ('Profesor_14', 'Clase_200', 6), ('Profesor_14', 'Clase_200', 7), ('Profesor_14', 'Clase_200', 8), ('Profesor_14', 'Clase_200', 9), ('Profesor_14', 'Clase_200', 10), ('Profesor_14', 'Clase_200', 11), ('Profesor_14', 'Clase_200', 12), ('Profesor_14', 'Clase_200', 13), ('Profesor_14', 'Clase_200', 14), ('Profesor_14', 'Clase_200', 15), ('Profesor_14', 'Clase_200', 16), ('Profesor_14', 'Clase_200', 17), ('Profesor_14', 'Clase_200', 18), ('Profesor_14', 'Clase_200', 19), ('Profesor_14', 'Clase_200', 20), ('Profesor_25', 'Clase_23', 1), ('Profesor_25', 'Clase_23', 2), ('Profesor_25', 'Clase_23', 3), ('Profesor_25', 'Clase_23', 4), ('Profesor_25', 'Clase_23', 5), ('Profesor_25', 'Clase_23', 6), ('Profesor_25', 'Clase_23', 7), ('Profesor_25', 'Clase_23', 8), ('Profesor_25', 'Clase_23', 9), ('Profesor_25', 'Clase_23', 10), ('Profesor_25', 'Clase_23', 11), ('Profesor_25', 'Clase_23', 12), ('Profesor_25', 'Clase_23', 13), ('Profesor_25', 'Clase_23', 14), ('Profesor_25', 'Clase_23', 15), ('Profesor_25', 'Clase_23', 16), ('Profesor_25', 'Clase_23', 17), ('Profesor_25', 'Clase_23', 18), ('Profesor_25', 'Clase_23', 19), ('Profesor_25', 'Clase_23', 20), ('Profesor_25', 'Clase_25', 1), ('Profesor_25', 'Clase_25', 2), ('Profesor_25', 'Clase_25', 3), ('Profesor_25', 'Clase_25', 4), ('Profesor_25', 'Clase_25', 5), ('Profesor_25', 'Clase_25', 6), ('Profesor_25', 'Clase_25', 7), ('Profesor_25', 'Clase_25', 8), ('Profesor_25', 'Clase_25', 9), ('Profesor_25', 'Clase_25', 10), ('Profesor_25', 'Clase_25', 11), ('Profesor_25', 'Clase_25', 12), ('Profesor_25', 'Clase_25', 13), ('Profesor_25', 'Clase_25', 14), ('Profesor_25', 'Clase_25', 15), ('Profesor_25', 'Clase_25', 16), ('Profesor_25', 'Clase_25', 17), ('Profesor_25', 'Clase_25', 18), ('Profesor_25', 'Clase_25', 19), ('Profesor_25', 'Clase_25', 20), ('Profesor_25', 'Clase_34', 1), ('Profesor_25', 'Clase_34', 2), ('Profesor_25', 'Clase_34', 3), ('Profesor_25', 'Clase_34', 4), ('Profesor_25', 'Clase_34', 5), ('Profesor_25', 'Clase_34', 6), ('Profesor_25', 'Clase_34', 7), ('Profesor_25', 'Clase_34', 8), ('Profesor_25', 'Clase_34', 9), ('Profesor_25', 'Clase_34', 10), ('Profesor_25', 'Clase_34', 11), ('Profesor_25', 'Clase_34', 12), ('Profesor_25', 'Clase_34', 13), ('Profesor_25', 'Clase_34', 14), ('Profesor_25', 'Clase_34', 15), ('Profesor_25', 'Clase_34', 16), ('Profesor_25', 'Clase_34', 17), ('Profesor_25', 'Clase_34', 18), ('Profesor_25', 'Clase_34', 19), ('Profesor_25', 'Clase_34', 20), ('Profesor_25', 'Clase_42', 1), ('Profesor_25', 'Clase_42', 2), ('Profesor_25', 'Clase_42', 3), ('Profesor_25', 'Clase_42', 4), ('Profesor_25', 'Clase_42', 5), ('Profesor_25', 'Clase_42', 6), ('Profesor_25', 'Clase_42', 7), ('Profesor_25', 'Clase_42', 8), ('Profesor_25', 'Clase_42', 9), ('Profesor_25', 'Clase_42', 10), ('Profesor_25', 'Clase_42', 11), ('Profesor_25', 'Clase_42', 12), ('Profesor_25', 'Clase_42', 13), ('Profesor_25', 'Clase_42', 14), ('Profesor_25', 'Clase_42', 15), ('Profesor_25', 'Clase_42', 16), ('Profesor_25', 'Clase_42', 17), ('Profesor_25', 'Clase_42', 18), ('Profesor_25', 'Clase_42', 19), ('Profesor_25', 'Clase_42', 20), ('Profesor_25', 'Clase_62', 1), ('Profesor_25', 'Clase_62', 2), ('Profesor_25', 'Clase_62', 3), ('Profesor_25', 'Clase_62', 4), ('Profesor_25', 'Clase_62', 5), ('Profesor_25', 'Clase_62', 6), ('Profesor_25', 'Clase_62', 7), ('Profesor_25', 'Clase_62', 8), ('Profesor_25', 'Clase_62', 9), ('Profesor_25', 'Clase_62', 10), ('Profesor_25', 'Clase_62', 11), ('Profesor_25', 'Clase_62', 12), ('Profesor_25', 'Clase_62', 13), ('Profesor_25', 'Clase_62', 14), ('Profesor_25', 'Clase_62', 15), ('Profesor_25', 'Clase_62', 16), ('Profesor_25', 'Clase_62', 17), ('Profesor_25', 'Clase_62', 18), ('Profesor_25', 'Clase_62', 19), ('Profesor_25', 'Clase_62', 20), ('Profesor_25', 'Clase_68', 1), ('Profesor_25', 'Clase_68', 2), ('Profesor_25', 'Clase_68', 3), ('Profesor_25', 'Clase_68', 4), ('Profesor_25', 'Clase_68', 5), ('Profesor_25', 'Clase_68', 6), ('Profesor_25', 'Clase_68', 7), ('Profesor_25', 'Clase_68', 8), ('Profesor_25', 'Clase_68', 9), ('Profesor_25', 'Clase_68', 10), ('Profesor_25', 'Clase_68', 11), ('Profesor_25', 'Clase_68', 12), ('Profesor_25', 'Clase_68', 13), ('Profesor_25', 'Clase_68', 14), ('Profesor_25', 'Clase_68', 15), ('Profesor_25', 'Clase_68', 16), ('Profesor_25', 'Clase_68', 17), ('Profesor_25', 'Clase_68', 18), ('Profesor_25', 'Clase_68', 19), ('Profesor_25', 'Clase_68', 20), ('Profesor_25', 'Clase_95', 1), ('Profesor_25', 'Clase_95', 2), ('Profesor_25', 'Clase_95', 3), ('Profesor_25', 'Clase_95', 4), ('Profesor_25', 'Clase_95', 5), ('Profesor_25', 'Clase_95', 6), ('Profesor_25', 'Clase_95', 7), ('Profesor_25', 'Clase_95', 8), ('Profesor_25', 'Clase_95', 9), ('Profesor_25', 'Clase_95', 10), ('Profesor_25', 'Clase_95', 11), ('Profesor_25', 'Clase_95', 12), ('Profesor_25', 'Clase_95', 13), ('Profesor_25', 'Clase_95', 14), ('Profesor_25', 'Clase_95', 15), ('Profesor_25', 'Clase_95', 16), ('Profesor_25', 'Clase_95', 17), ('Profesor_25', 'Clase_95', 18), ('Profesor_25', 'Clase_95', 19), ('Profesor_25', 'Clase_95', 20), ('Profesor_25', 'Clase_102', 1), ('Profesor_25', 'Clase_102', 2), ('Profesor_25', 'Clase_102', 3), ('Profesor_25', 'Clase_102', 4), ('Profesor_25', 'Clase_102', 5), ('Profesor_25', 'Clase_102', 6), ('Profesor_25', 'Clase_102', 7), ('Profesor_25', 'Clase_102', 8), ('Profesor_25', 'Clase_102', 9), ('Profesor_25', 'Clase_102', 10), ('Profesor_25', 'Clase_102', 11), ('Profesor_25', 'Clase_102', 12), ('Profesor_25', 'Clase_102', 13), ('Profesor_25', 'Clase_102', 14), ('Profesor_25', 'Clase_102', 15), ('Profesor_25', 'Clase_102', 16), ('Profesor_25', 'Clase_102', 17), ('Profesor_25', 'Clase_102', 18), ('Profesor_25', 'Clase_102', 19), ('Profesor_25', 'Clase_102', 20), ('Profesor_25', 'Clase_144', 1), ('Profesor_25', 'Clase_144', 2), ('Profesor_25', 'Clase_144', 3), ('Profesor_25', 'Clase_144', 4), ('Profesor_25', 'Clase_144', 5), ('Profesor_25', 'Clase_144', 6), ('Profesor_25', 'Clase_144', 7), ('Profesor_25', 'Clase_144', 8), ('Profesor_25', 'Clase_144', 9), ('Profesor_25', 'Clase_144', 10), ('Profesor_25', 'Clase_144', 11), ('Profesor_25', 'Clase_144', 12), ('Profesor_25', 'Clase_144', 13), ('Profesor_25', 'Clase_144', 14), ('Profesor_25', 'Clase_144', 15), ('Profesor_25', 'Clase_144', 16), ('Profesor_25', 'Clase_144', 17), ('Profesor_25', 'Clase_144', 18), ('Profesor_25', 'Clase_144', 19), ('Profesor_25', 'Clase_144', 20), ('Profesor_25', 'Clase_187', 1), ('Profesor_25', 'Clase_187', 2), ('Profesor_25', 'Clase_187', 3), ('Profesor_25', 'Clase_187', 4), ('Profesor_25', 'Clase_187', 5), ('Profesor_25', 'Clase_187', 6), ('Profesor_25', 'Clase_187', 7), ('Profesor_25', 'Clase_187', 8), ('Profesor_25', 'Clase_187', 9), ('Profesor_25', 'Clase_187', 10), ('Profesor_25', 'Clase_187', 11), ('Profesor_25', 'Clase_187', 12), ('Profesor_25', 'Clase_187', 13), ('Profesor_25', 'Clase_187', 14), ('Profesor_25', 'Clase_187', 15), ('Profesor_25', 'Clase_187', 16), ('Profesor_25', 'Clase_187', 17), ('Profesor_25', 'Clase_187', 18), ('Profesor_25', 'Clase_187', 19), ('Profesor_25', 'Clase_187', 20), ('Profesor_25', 'Clase_194', 1), ('Profesor_25', 'Clase_194', 2), ('Profesor_25', 'Clase_194', 3), ('Profesor_25', 'Clase_194', 4), ('Profesor_25', 'Clase_194', 5), ('Profesor_25', 'Clase_194', 6), ('Profesor_25', 'Clase_194', 7), ('Profesor_25', 'Clase_194', 8), ('Profesor_25', 'Clase_194', 9), ('Profesor_25', 'Clase_194', 10), ('Profesor_25', 'Clase_194', 11), ('Profesor_25', 'Clase_194', 12), ('Profesor_25', 'Clase_194', 13), ('Profesor_25', 'Clase_194', 14), ('Profesor_25', 'Clase_194', 15), ('Profesor_25', 'Clase_194', 16), ('Profesor_25', 'Clase_194', 17), ('Profesor_25', 'Clase_194', 18), ('Profesor_25', 'Clase_194', 19), ('Profesor_25', 'Clase_194', 20), ('Profesor_25', 'Clase_200', 1), ('Profesor_25', 'Clase_200', 2), ('Profesor_25', 'Clase_200', 3), ('Profesor_25', 'Clase_200', 4), ('Profesor_25', 'Clase_200', 5), ('Profesor_25', 'Clase_200', 6), ('Profesor_25', 'Clase_200', 7), ('Profesor_25', 'Clase_200', 8), ('Profesor_25', 'Clase_200', 9), ('Profesor_25', 'Clase_200', 10), ('Profesor_25', 'Clase_200', 11), ('Profesor_25', 'Clase_200', 12), ('Profesor_25', 'Clase_200', 13), ('Profesor_25', 'Clase_200', 14), ('Profesor_25', 'Clase_200', 15), ('Profesor_25', 'Clase_200', 16), ('Profesor_25', 'Clase_200', 17), ('Profesor_25', 'Clase_200', 18), ('Profesor_25', 'Clase_200', 19), ('Profesor_25', 'Clase_200', 20), ('Profesor_27', 'Clase_23', 1), ('Profesor_27', 'Clase_23', 2), ('Profesor_27', 'Clase_23', 3), ('Profesor_27', 'Clase_23', 4), ('Profesor_27', 'Clase_23', 5), ('Profesor_27', 'Clase_23', 6), ('Profesor_27', 'Clase_23', 7), ('Profesor_27', 'Clase_23', 8), ('Profesor_27', 'Clase_23', 9), ('Profesor_27', 'Clase_23', 10), ('Profesor_27', 'Clase_23', 11), ('Profesor_27', 'Clase_23', 12), ('Profesor_27', 'Clase_23', 13), ('Profesor_27', 'Clase_23', 14), ('Profesor_27', 'Clase_23', 15), ('Profesor_27', 'Clase_23', 16), ('Profesor_27', 'Clase_23', 17), ('Profesor_27', 'Clase_23', 18), ('Profesor_27', 'Clase_23', 19), ('Profesor_27', 'Clase_23', 20), ('Profesor_27', 'Clase_25', 1), ('Profesor_27', 'Clase_25', 2), ('Profesor_27', 'Clase_25', 3), ('Profesor_27', 'Clase_25', 4), ('Profesor_27', 'Clase_25', 5), ('Profesor_27', 'Clase_25', 6), ('Profesor_27', 'Clase_25', 7), ('Profesor_27', 'Clase_25', 8), ('Profesor_27', 'Clase_25', 9), ('Profesor_27', 'Clase_25', 10), ('Profesor_27', 'Clase_25', 11), ('Profesor_27', 'Clase_25', 12), ('Profesor_27', 'Clase_25', 13), ('Profesor_27', 'Clase_25', 14), ('Profesor_27', 'Clase_25', 15), ('Profesor_27', 'Clase_25', 16), ('Profesor_27', 'Clase_25', 17), ('Profesor_27', 'Clase_25', 18), ('Profesor_27', 'Clase_25', 19), ('Profesor_27', 'Clase_25', 20), ('Profesor_27', 'Clase_34', 1), ('Profesor_27', 'Clase_34', 2), ('Profesor_27', 'Clase_34', 3), ('Profesor_27', 'Clase_34', 4), ('Profesor_27', 'Clase_34', 5), ('Profesor_27', 'Clase_34', 6), ('Profesor_27', 'Clase_34', 7), ('Profesor_27', 'Clase_34', 8), ('Profesor_27', 'Clase_34', 9), ('Profesor_27', 'Clase_34', 10), ('Profesor_27', 'Clase_34', 11), ('Profesor_27', 'Clase_34', 12), ('Profesor_27', 'Clase_34', 13), ('Profesor_27', 'Clase_34', 14), ('Profesor_27', 'Clase_34', 15), ('Profesor_27', 'Clase_34', 16), ('Profesor_27', 'Clase_34', 17), ('Profesor_27', 'Clase_34', 18), ('Profesor_27', 'Clase_34', 19), ('Profesor_27', 'Clase_34', 20), ('Profesor_27', 'Clase_42', 1), ('Profesor_27', 'Clase_42', 2), ('Profesor_27', 'Clase_42', 3), ('Profesor_27', 'Clase_42', 4), ('Profesor_27', 'Clase_42', 5), ('Profesor_27', 'Clase_42', 6), ('Profesor_27', 'Clase_42', 7), ('Profesor_27', 'Clase_42', 8), ('Profesor_27', 'Clase_42', 9), ('Profesor_27', 'Clase_42', 10), ('Profesor_27', 'Clase_42', 11), ('Profesor_27', 'Clase_42', 12), ('Profesor_27', 'Clase_42', 13), ('Profesor_27', 'Clase_42', 14), ('Profesor_27', 'Clase_42', 15), ('Profesor_27', 'Clase_42', 16), ('Profesor_27', 'Clase_42', 17), ('Profesor_27', 'Clase_42', 18), ('Profesor_27', 'Clase_42', 19), ('Profesor_27', 'Clase_42', 20), ('Profesor_27', 'Clase_62', 1), ('Profesor_27', 'Clase_62', 2), ('Profesor_27', 'Clase_62', 3), ('Profesor_27', 'Clase_62', 4), ('Profesor_27', 'Clase_62', 5), ('Profesor_27', 'Clase_62', 6), ('Profesor_27', 'Clase_62', 7), ('Profesor_27', 'Clase_62', 8), ('Profesor_27', 'Clase_62', 9), ('Profesor_27', 'Clase_62', 10), ('Profesor_27', 'Clase_62', 11), ('Profesor_27', 'Clase_62', 12), ('Profesor_27', 'Clase_62', 13), ('Profesor_27', 'Clase_62', 14), ('Profesor_27', 'Clase_62', 15), ('Profesor_27', 'Clase_62', 16), ('Profesor_27', 'Clase_62', 17), ('Profesor_27', 'Clase_62', 18), ('Profesor_27', 'Clase_62', 19), ('Profesor_27', 'Clase_62', 20), ('Profesor_27', 'Clase_68', 1), ('Profesor_27', 'Clase_68', 2), ('Profesor_27', 'Clase_68', 3), ('Profesor_27', 'Clase_68', 4), ('Profesor_27', 'Clase_68', 5), ('Profesor_27', 'Clase_68', 6), ('Profesor_27', 'Clase_68', 7), ('Profesor_27', 'Clase_68', 8), ('Profesor_27', 'Clase_68', 9), ('Profesor_27', 'Clase_68', 10), ('Profesor_27', 'Clase_68', 11), ('Profesor_27', 'Clase_68', 12), ('Profesor_27', 'Clase_68', 13), ('Profesor_27', 'Clase_68', 14), ('Profesor_27', 'Clase_68', 15), ('Profesor_27', 'Clase_68', 16), ('Profesor_27', 'Clase_68', 17), ('Profesor_27', 'Clase_68', 18), ('Profesor_27', 'Clase_68', 19), ('Profesor_27', 'Clase_68', 20), ('Profesor_27', 'Clase_95', 1), ('Profesor_27', 'Clase_95', 2), ('Profesor_27', 'Clase_95', 3), ('Profesor_27', 'Clase_95', 4), ('Profesor_27', 'Clase_95', 5), ('Profesor_27', 'Clase_95', 6), ('Profesor_27', 'Clase_95', 7), ('Profesor_27', 'Clase_95', 8), ('Profesor_27', 'Clase_95', 9), ('Profesor_27', 'Clase_95', 10), ('Profesor_27', 'Clase_95', 11), ('Profesor_27', 'Clase_95', 12), ('Profesor_27', 'Clase_95', 13), ('Profesor_27', 'Clase_95', 14), ('Profesor_27', 'Clase_95', 15), ('Profesor_27', 'Clase_95', 16), ('Profesor_27', 'Clase_95', 17), ('Profesor_27', 'Clase_95', 18), ('Profesor_27', 'Clase_95', 19), ('Profesor_27', 'Clase_95', 20), ('Profesor_27', 'Clase_102', 1), ('Profesor_27', 'Clase_102', 2), ('Profesor_27', 'Clase_102', 3), ('Profesor_27', 'Clase_102', 4), ('Profesor_27', 'Clase_102', 5), ('Profesor_27', 'Clase_102', 6), ('Profesor_27', 'Clase_102', 7), ('Profesor_27', 'Clase_102', 8), ('Profesor_27', 'Clase_102', 9), ('Profesor_27', 'Clase_102', 10), ('Profesor_27', 'Clase_102', 11), ('Profesor_27', 'Clase_102', 12), ('Profesor_27', 'Clase_102', 13), ('Profesor_27', 'Clase_102', 14), ('Profesor_27', 'Clase_102', 15), ('Profesor_27', 'Clase_102', 16), ('Profesor_27', 'Clase_102', 17), ('Profesor_27', 'Clase_102', 18), ('Profesor_27', 'Clase_102', 19), ('Profesor_27', 'Clase_102', 20), ('Profesor_27', 'Clase_144', 1), ('Profesor_27', 'Clase_144', 2), ('Profesor_27', 'Clase_144', 3), ('Profesor_27', 'Clase_144', 4), ('Profesor_27', 'Clase_144', 5), ('Profesor_27', 'Clase_144', 6), ('Profesor_27', 'Clase_144', 7), ('Profesor_27', 'Clase_144', 8), ('Profesor_27', 'Clase_144', 9), ('Profesor_27', 'Clase_144', 10), ('Profesor_27', 'Clase_144', 11), ('Profesor_27', 'Clase_144', 12), ('Profesor_27', 'Clase_144', 13), ('Profesor_27', 'Clase_144', 14), ('Profesor_27', 'Clase_144', 15), ('Profesor_27', 'Clase_144', 16), ('Profesor_27', 'Clase_144', 17), ('Profesor_27', 'Clase_144', 18), ('Profesor_27', 'Clase_144', 19), ('Profesor_27', 'Clase_144', 20), ('Profesor_27', 'Clase_187', 1), ('Profesor_27', 'Clase_187', 2), ('Profesor_27', 'Clase_187', 3), ('Profesor_27', 'Clase_187', 4), ('Profesor_27', 'Clase_187', 5), ('Profesor_27', 'Clase_187', 6), ('Profesor_27', 'Clase_187', 7), ('Profesor_27', 'Clase_187', 8), ('Profesor_27', 'Clase_187', 9), ('Profesor_27', 'Clase_187', 10), ('Profesor_27', 'Clase_187', 11), ('Profesor_27', 'Clase_187', 12), ('Profesor_27', 'Clase_187', 13), ('Profesor_27', 'Clase_187', 14), ('Profesor_27', 'Clase_187', 15), ('Profesor_27', 'Clase_187', 16), ('Profesor_27', 'Clase_187', 17), ('Profesor_27', 'Clase_187', 18), ('Profesor_27', 'Clase_187', 19), ('Profesor_27', 'Clase_187', 20), ('Profesor_27', 'Clase_194', 1), ('Profesor_27', 'Clase_194', 2), ('Profesor_27', 'Clase_194', 3), ('Profesor_27', 'Clase_194', 4), ('Profesor_27', 'Clase_194', 5), ('Profesor_27', 'Clase_194', 6), ('Profesor_27', 'Clase_194', 7), ('Profesor_27', 'Clase_194', 8), ('Profesor_27', 'Clase_194', 9), ('Profesor_27', 'Clase_194', 10), ('Profesor_27', 'Clase_194', 11), ('Profesor_27', 'Clase_194', 12), ('Profesor_27', 'Clase_194', 13), ('Profesor_27', 'Clase_194', 14), ('Profesor_27', 'Clase_194', 15), ('Profesor_27', 'Clase_194', 16), ('Profesor_27', 'Clase_194', 17), ('Profesor_27', 'Clase_194', 18), ('Profesor_27', 'Clase_194', 19), ('Profesor_27', 'Clase_194', 20), ('Profesor_27', 'Clase_200', 1), ('Profesor_27', 'Clase_200', 2), ('Profesor_27', 'Clase_200', 3), ('Profesor_27', 'Clase_200', 4), ('Profesor_27', 'Clase_200', 5), ('Profesor_27', 'Clase_200', 6), ('Profesor_27', 'Clase_200', 7), ('Profesor_27', 'Clase_200', 8), ('Profesor_27', 'Clase_200', 9), ('Profesor_27', 'Clase_200', 10), ('Profesor_27', 'Clase_200', 11), ('Profesor_27', 'Clase_200', 12), ('Profesor_27', 'Clase_200', 13), ('Profesor_27', 'Clase_200', 14), ('Profesor_27', 'Clase_200', 15), ('Profesor_27', 'Clase_200', 16), ('Profesor_27', 'Clase_200', 17), ('Profesor_27', 'Clase_200', 18), ('Profesor_27', 'Clase_200', 19), ('Profesor_27', 'Clase_200', 20), ('Profesor_51', 'Clase_23', 1), ('Profesor_51', 'Clase_23', 2), ('Profesor_51', 'Clase_23', 3), ('Profesor_51', 'Clase_23', 4), ('Profesor_51', 'Clase_23', 5), ('Profesor_51', 'Clase_23', 6), ('Profesor_51', 'Clase_23', 7), ('Profesor_51', 'Clase_23', 8), ('Profesor_51', 'Clase_23', 9), ('Profesor_51', 'Clase_23', 10), ('Profesor_51', 'Clase_23', 11), ('Profesor_51', 'Clase_23', 12), ('Profesor_51', 'Clase_23', 13), ('Profesor_51', 'Clase_23', 14), ('Profesor_51', 'Clase_23', 15), ('Profesor_51', 'Clase_23', 16), ('Profesor_51', 'Clase_23', 17), ('Profesor_51', 'Clase_23', 18), ('Profesor_51', 'Clase_23', 19), ('Profesor_51', 'Clase_23', 20), ('Profesor_51', 'Clase_25', 1), ('Profesor_51', 'Clase_25', 2), ('Profesor_51', 'Clase_25', 3), ('Profesor_51', 'Clase_25', 4), ('Profesor_51', 'Clase_25', 5), ('Profesor_51', 'Clase_25', 6), ('Profesor_51', 'Clase_25', 7), ('Profesor_51', 'Clase_25', 8), ('Profesor_51', 'Clase_25', 9), ('Profesor_51', 'Clase_25', 10), ('Profesor_51', 'Clase_25', 11), ('Profesor_51', 'Clase_25', 12), ('Profesor_51', 'Clase_25', 13), ('Profesor_51', 'Clase_25', 14), ('Profesor_51', 'Clase_25', 15), ('Profesor_51', 'Clase_25', 16), ('Profesor_51', 'Clase_25', 17), ('Profesor_51', 'Clase_25', 18), ('Profesor_51', 'Clase_25', 19), ('Profesor_51', 'Clase_25', 20), ('Profesor_51', 'Clase_34', 1), ('Profesor_51', 'Clase_34', 2), ('Profesor_51', 'Clase_34', 3), ('Profesor_51', 'Clase_34', 4), ('Profesor_51', 'Clase_34', 5), ('Profesor_51', 'Clase_34', 6), ('Profesor_51', 'Clase_34', 7), ('Profesor_51', 'Clase_34', 8), ('Profesor_51', 'Clase_34', 9), ('Profesor_51', 'Clase_34', 10), ('Profesor_51', 'Clase_34', 11), ('Profesor_51', 'Clase_34', 12), ('Profesor_51', 'Clase_34', 13), ('Profesor_51', 'Clase_34', 14), ('Profesor_51', 'Clase_34', 15), ('Profesor_51', 'Clase_34', 16), ('Profesor_51', 'Clase_34', 17), ('Profesor_51', 'Clase_34', 18), ('Profesor_51', 'Clase_34', 19), ('Profesor_51', 'Clase_34', 20), ('Profesor_51', 'Clase_42', 1), ('Profesor_51', 'Clase_42', 2), ('Profesor_51', 'Clase_42', 3), ('Profesor_51', 'Clase_42', 4), ('Profesor_51', 'Clase_42', 5), ('Profesor_51', 'Clase_42', 6), ('Profesor_51', 'Clase_42', 7), ('Profesor_51', 'Clase_42', 8), ('Profesor_51', 'Clase_42', 9), ('Profesor_51', 'Clase_42', 10), ('Profesor_51', 'Clase_42', 11), ('Profesor_51', 'Clase_42', 12), ('Profesor_51', 'Clase_42', 13), ('Profesor_51', 'Clase_42', 14), ('Profesor_51', 'Clase_42', 15), ('Profesor_51', 'Clase_42', 16), ('Profesor_51', 'Clase_42', 17), ('Profesor_51', 'Clase_42', 18), ('Profesor_51', 'Clase_42', 19), ('Profesor_51', 'Clase_42', 20), ('Profesor_51', 'Clase_62', 1), ('Profesor_51', 'Clase_62', 2), ('Profesor_51', 'Clase_62', 3), ('Profesor_51', 'Clase_62', 4), ('Profesor_51', 'Clase_62', 5), ('Profesor_51', 'Clase_62', 6), ('Profesor_51', 'Clase_62', 7), ('Profesor_51', 'Clase_62', 8), ('Profesor_51', 'Clase_62', 9), ('Profesor_51', 'Clase_62', 10), ('Profesor_51', 'Clase_62', 11), ('Profesor_51', 'Clase_62', 12), ('Profesor_51', 'Clase_62', 13), ('Profesor_51', 'Clase_62', 14), ('Profesor_51', 'Clase_62', 15), ('Profesor_51', 'Clase_62', 16), ('Profesor_51', 'Clase_62', 17), ('Profesor_51', 'Clase_62', 18), ('Profesor_51', 'Clase_62', 19), ('Profesor_51', 'Clase_62', 20), ('Profesor_51', 'Clase_68', 1), ('Profesor_51', 'Clase_68', 2), ('Profesor_51', 'Clase_68', 3), ('Profesor_51', 'Clase_68', 4), ('Profesor_51', 'Clase_68', 5), ('Profesor_51', 'Clase_68', 6), ('Profesor_51', 'Clase_68', 7), ('Profesor_51', 'Clase_68', 8), ('Profesor_51', 'Clase_68', 9), ('Profesor_51', 'Clase_68', 10), ('Profesor_51', 'Clase_68', 11), ('Profesor_51', 'Clase_68', 12), ('Profesor_51', 'Clase_68', 13), ('Profesor_51', 'Clase_68', 14), ('Profesor_51', 'Clase_68', 15), ('Profesor_51', 'Clase_68', 16), ('Profesor_51', 'Clase_68', 17), ('Profesor_51', 'Clase_68', 18), ('Profesor_51', 'Clase_68', 19), ('Profesor_51', 'Clase_68', 20), ('Profesor_51', 'Clase_95', 1), ('Profesor_51', 'Clase_95', 2), ('Profesor_51', 'Clase_95', 3), ('Profesor_51', 'Clase_95', 4), ('Profesor_51', 'Clase_95', 5), ('Profesor_51', 'Clase_95', 6), ('Profesor_51', 'Clase_95', 7), ('Profesor_51', 'Clase_95', 8), ('Profesor_51', 'Clase_95', 9), ('Profesor_51', 'Clase_95', 10), ('Profesor_51', 'Clase_95', 11), ('Profesor_51', 'Clase_95', 12), ('Profesor_51', 'Clase_95', 13), ('Profesor_51', 'Clase_95', 14), ('Profesor_51', 'Clase_95', 15), ('Profesor_51', 'Clase_95', 16), ('Profesor_51', 'Clase_95', 17), ('Profesor_51', 'Clase_95', 18), ('Profesor_51', 'Clase_95', 19), ('Profesor_51', 'Clase_95', 20), ('Profesor_51', 'Clase_102', 1), ('Profesor_51', 'Clase_102', 2), ('Profesor_51', 'Clase_102', 3), ('Profesor_51', 'Clase_102', 4), ('Profesor_51', 'Clase_102', 5), ('Profesor_51', 'Clase_102', 6), ('Profesor_51', 'Clase_102', 7), ('Profesor_51', 'Clase_102', 8), ('Profesor_51', 'Clase_102', 9), ('Profesor_51', 'Clase_102', 10), ('Profesor_51', 'Clase_102', 11), ('Profesor_51', 'Clase_102', 12), ('Profesor_51', 'Clase_102', 13), ('Profesor_51', 'Clase_102', 14), ('Profesor_51', 'Clase_102', 15), ('Profesor_51', 'Clase_102', 16), ('Profesor_51', 'Clase_102', 17), ('Profesor_51', 'Clase_102', 18), ('Profesor_51', 'Clase_102', 19), ('Profesor_51', 'Clase_102', 20), ('Profesor_51', 'Clase_144', 1), ('Profesor_51', 'Clase_144', 2), ('Profesor_51', 'Clase_144', 3), ('Profesor_51', 'Clase_144', 4), ('Profesor_51', 'Clase_144', 5), ('Profesor_51', 'Clase_144', 6), ('Profesor_51', 'Clase_144', 7), ('Profesor_51', 'Clase_144', 8), ('Profesor_51', 'Clase_144', 9), ('Profesor_51', 'Clase_144', 10), ('Profesor_51', 'Clase_144', 11), ('Profesor_51', 'Clase_144', 12), ('Profesor_51', 'Clase_144', 13), ('Profesor_51', 'Clase_144', 14), ('Profesor_51', 'Clase_144', 15), ('Profesor_51', 'Clase_144', 16), ('Profesor_51', 'Clase_144', 17), ('Profesor_51', 'Clase_144', 18), ('Profesor_51', 'Clase_144', 19), ('Profesor_51', 'Clase_144', 20), ('Profesor_51', 'Clase_187', 1), ('Profesor_51', 'Clase_187', 2), ('Profesor_51', 'Clase_187', 3), ('Profesor_51', 'Clase_187', 4), ('Profesor_51', 'Clase_187', 5), ('Profesor_51', 'Clase_187', 6), ('Profesor_51', 'Clase_187', 7), ('Profesor_51', 'Clase_187', 8), ('Profesor_51', 'Clase_187', 9), ('Profesor_51', 'Clase_187', 10), ('Profesor_51', 'Clase_187', 11), ('Profesor_51', 'Clase_187', 12), ('Profesor_51', 'Clase_187', 13), ('Profesor_51', 'Clase_187', 14), ('Profesor_51', 'Clase_187', 15), ('Profesor_51', 'Clase_187', 16), ('Profesor_51', 'Clase_187', 17), ('Profesor_51', 'Clase_187', 18), ('Profesor_51', 'Clase_187', 19), ('Profesor_51', 'Clase_187', 20), ('Profesor_51', 'Clase_194', 1), ('Profesor_51', 'Clase_194', 2), ('Profesor_51', 'Clase_194', 3), ('Profesor_51', 'Clase_194', 4), ('Profesor_51', 'Clase_194', 5), ('Profesor_51', 'Clase_194', 6), ('Profesor_51', 'Clase_194', 7), ('Profesor_51', 'Clase_194', 8), ('Profesor_51', 'Clase_194', 9), ('Profesor_51', 'Clase_194', 10), ('Profesor_51', 'Clase_194', 11), ('Profesor_51', 'Clase_194', 12), ('Profesor_51', 'Clase_194', 13), ('Profesor_51', 'Clase_194', 14), ('Profesor_51', 'Clase_194', 15), ('Profesor_51', 'Clase_194', 16), ('Profesor_51', 'Clase_194', 17), ('Profesor_51', 'Clase_194', 18), ('Profesor_51', 'Clase_194', 19), ('Profesor_51', 'Clase_194', 20), ('Profesor_51', 'Clase_200', 1), ('Profesor_51', 'Clase_200', 2), ('Profesor_51', 'Clase_200', 3), ('Profesor_51', 'Clase_200', 4), ('Profesor_51', 'Clase_200', 5), ('Profesor_51', 'Clase_200', 6), ('Profesor_51', 'Clase_200', 7), ('Profesor_51', 'Clase_200', 8), ('Profesor_51', 'Clase_200', 9), ('Profesor_51', 'Clase_200', 10), ('Profesor_51', 'Clase_200', 11), ('Profesor_51', 'Clase_200', 12), ('Profesor_51', 'Clase_200', 13), ('Profesor_51', 'Clase_200', 14), ('Profesor_51', 'Clase_200', 15), ('Profesor_51', 'Clase_200', 16), ('Profesor_51', 'Clase_200', 17), ('Profesor_51', 'Clase_200', 18), ('Profesor_51', 'Clase_200', 19), ('Profesor_51', 'Clase_200', 20)]\n"
     ]
    }
   ],
   "source": [
    "#Creamos nuestras variables objetivo son de la forma (profesor, clase, horario), horario es un numero del 1 al 20\n",
    "\n",
    "# X_1_1_2 = (Profesor1, clase1, horario 2)\n",
    "\n",
    "tercias=[]\n",
    "\n",
    "for i in dic_prof.keys():\n",
    "    for j in dic_class.keys():\n",
    "        for k in range(1,21):\n",
    "            tercias.append((i,j,k))\n",
    "\n",
    "\n",
    "listaProf=list(dic_prof.keys())\n",
    "listaClases=list(dic_class.keys())\n",
    "print(tercias)"
   ]
  },
  {
   "attachments": {},
   "cell_type": "markdown",
   "metadata": {},
   "source": [
    "**Declaración de variables en Gurobi**"
   ]
  },
  {
   "cell_type": "code",
   "execution_count": 40,
   "metadata": {},
   "outputs": [],
   "source": [
    "import gurobipy as gp\n",
    "from gurobipy import GRB\n",
    "\n",
    "\n",
    "m = gp.Model(\"Asignacion de horario\")\n",
    "x = m.addVars(tercias, vtype=GRB.BINARY, name='x')\n",
    "y = m.addVars(listaProf, vtype=GRB.BINARY)\n",
    "z = m.addVars(listaProf,listaClases, vtype=GRB.BINARY, name=\"z\")\n"
   ]
  },
  {
   "attachments": {},
   "cell_type": "markdown",
   "metadata": {},
   "source": [
    "**Función Objetivo**\n",
    "\n",
    "$$Min\\sum_{i=0}^{70}{y_i}$$"
   ]
  },
  {
   "cell_type": "code",
   "execution_count": 41,
   "metadata": {},
   "outputs": [],
   "source": [
    "for p in listaProf:\n",
    "    for c in listaClases: \n",
    "        for h in range(1,21):\n",
    "            m.addConstr(y[p]>=x[p,c,h], name=f\"Y_{p}_{c}_{h}\")\n",
    "\n",
    "m.setObjective(y.sum(), GRB.MINIMIZE)"
   ]
  },
  {
   "attachments": {},
   "cell_type": "markdown",
   "metadata": {},
   "source": [
    "**Asignación de las variables z**"
   ]
  },
  {
   "cell_type": "code",
   "execution_count": 42,
   "metadata": {},
   "outputs": [],
   "source": [
    "for p in listaProf:\n",
    "    for c in listaClases:\n",
    "        for h in range(1,21):\n",
    "            m.addConstr(z[p,c]>=x[p,c,h], name=f\"z_{p}_{c}_{h}\")\n"
   ]
  },
  {
   "attachments": {},
   "cell_type": "markdown",
   "metadata": {},
   "source": [
    "**Cada clase tiene un profesor**\n",
    "\n",
    "Todo curso abierto debe tener un profesor $i$ asignado. Por lo tanto, para toda materia $j$ la suma de profesores debe ser igual a uno.\n",
    "\n",
    "$$2\\cdot \\sum_{i=1}^{70}z_{ij} = 1 \\qquad \\forall_{j\\epsilon \\left \\{ 1,220 \\right \\}}$$"
   ]
  },
  {
   "cell_type": "code",
   "execution_count": 43,
   "metadata": {},
   "outputs": [],
   "source": [
    "for c in listaClases:\n",
    "    m.addConstr(1 == gp.quicksum(z[p,c] for p in listaProf), name=f\"Profesor-Class_{c}\")"
   ]
  },
  {
   "attachments": {},
   "cell_type": "markdown",
   "metadata": {},
   "source": [
    "**Restricción de Idioma**\n",
    "\n",
    "Un profesor que no hable inglés no puede ser asignado a una materia que se imparta en inglés. Por lo tanto, la suma del conjunto de profesores $i$ que no hablan inglés que imparten la materia $j$ que se imparte en inglés, debe ser igual a 0.\n",
    "\n",
    "$$\\sum_{i\\epsilon T}z_{ij} = 0 \\qquad \\forall_{j\\epsilon \\left \\{ 1,220 \\right \\}}$$\n",
    "\n",
    "Donde $T$ es el conjunto de profesores que no hablan inglés\n",
    "\n",
    " "
   ]
  },
  {
   "cell_type": "code",
   "execution_count": 44,
   "metadata": {},
   "outputs": [
    {
     "data": {
      "text/plain": [
       "<gurobi.Constr *Awaiting Model Update*>"
      ]
     },
     "execution_count": 44,
     "metadata": {},
     "output_type": "execute_result"
    }
   ],
   "source": [
    "m.addConstr(0 == gp.quicksum(z[p,c] for p in listaProf for c in listaClases if dic_prof[p][1] == 0 and dic_class[c][1] == 1),name=\"Ingles\")"
   ]
  },
  {
   "attachments": {},
   "cell_type": "markdown",
   "metadata": {},
   "source": [
    "\n",
    "No todos los profesores dan la misma clase: Las materias abarcan distintas áreas; por ejemplo: física, química y matemáticas. Evidentemente, un químico no puede dar una materia como Álgebra Lineal. Por lo tanto, la suma del conjunto de profesores $i$ cuya área no coincide con el tipo de clave de la materia $j$ debe ser igual a cero.\n",
    "\n",
    "\n",
    "$$\\sum_{i\\epsilon E}z_{ij} = 0 \\qquad \\forall_{j\\epsilon \\left \\{ 1,220 \\right \\}}$$\n",
    "\n",
    "Donde $E$ es el conjunto de profesores que no tienen la especialidad de la clase $j$."
   ]
  },
  {
   "cell_type": "code",
   "execution_count": 45,
   "metadata": {},
   "outputs": [
    {
     "data": {
      "text/plain": [
       "<gurobi.Constr *Awaiting Model Update*>"
      ]
     },
     "execution_count": 45,
     "metadata": {},
     "output_type": "execute_result"
    }
   ],
   "source": [
    "m.addConstr(0 == gp.quicksum(z[p,c] for p in listaProf for c in listaClases if (dic_class[c][2] not in dic_prof[p][2])))"
   ]
  },
  {
   "attachments": {},
   "cell_type": "markdown",
   "metadata": {},
   "source": [
    "**Carga máxima de profesor**\n",
    "\n",
    "Cada profesor tiene asignada una carga semestral máxima. Por lo tanto, el número de créditos en un semestre debe ser menor o igual a la carga semestral del profesor $i$. \n",
    "\n",
    "\n",
    "$$ 2\\cdot \\sum_{j=0}^{220}\\sum_{k=0}^{20}x_{ijk}\\leq C_{i} \\qquad \\forall_{i\\epsilon \\left \\{ 0,220 \\right \\}}$$\n",
    "\n",
    "Donde $C_{i}$ = Carga maxima del profesor $i$.\n",
    "\n",
    "\n"
   ]
  },
  {
   "cell_type": "code",
   "execution_count": 46,
   "metadata": {},
   "outputs": [],
   "source": [
    "for p in listaProf:\n",
    "    m.addConstr(dic_prof[p][3] >= gp.quicksum(x[p,c,h]*2 for c in listaClases for h in range(1,21) ), name=f\"Carga_Prof_{p}\")"
   ]
  },
  {
   "attachments": {},
   "cell_type": "markdown",
   "metadata": {},
   "source": [
    "**Horas por unidad de formación**\n",
    "\n",
    "Cada unidad de formación tiene asignada un número de horas semanales. Por lo tanto, la carga semanal de cada clase $j$ debe ser igual a ese número de hora asignado.\n",
    "\n",
    "$$2\\cdot \\sum_{k=0}^{20}x_{ijk} = H_{j} \\qquad \\forall_{j\\epsilon \\left \\{ 1,220 \\right \\}}$$\n",
    "\n",
    "Donde $H_{j}$ = Es la carga semanal de la clase $j$.\n",
    "\n"
   ]
  },
  {
   "cell_type": "code",
   "execution_count": 47,
   "metadata": {},
   "outputs": [],
   "source": [
    "for c in listaClases:\n",
    "    m.addConstr(dic_class[c][3] == gp.quicksum(x[p,c,h]*2 for p in listaProf for h in range(1,21)), name=f\"Carga_UnidadF_{c}\" ) "
   ]
  },
  {
   "attachments": {},
   "cell_type": "markdown",
   "metadata": {},
   "source": [
    "**El mismo profesor no puede dar dos clases en el mismo horario**\n",
    "\n",
    "Un profesor solo puede dar clase en un horario a la vez.\n",
    "\n",
    "$$\\sum_{j=0}^{220}x_{ijk} \\leq 1 \\qquad \\forall_{i\\epsilon \\left \\{1, 70 \\right \\}}, \\forall_{k\\epsilon \\left \\{1, 20 \\right \\}}$$"
   ]
  },
  {
   "cell_type": "code",
   "execution_count": 48,
   "metadata": {},
   "outputs": [],
   "source": [
    "for p in listaProf:\n",
    "    for i in range(1,21):\n",
    "        m.addConstr(1 >= gp.quicksum(x[p,c,i] for c in listaClases), name=f\"No_Overlap_{p}_{i}\" )"
   ]
  },
  {
   "cell_type": "code",
   "execution_count": 49,
   "metadata": {},
   "outputs": [
    {
     "name": "stdout",
     "output_type": "stream",
     "text": [
      "Gurobi Optimizer version 10.0.1 build v10.0.1rc0 (win64)\n",
      "\n",
      "CPU model: AMD Ryzen 5 4600H with Radeon Graphics, instruction set [SSE2|AVX|AVX2]\n",
      "Thread count: 6 physical cores, 12 logical processors, using up to 12 threads\n",
      "\n",
      "Optimize a model with 2531 rows, 1265 columns and 8507 nonzeros\n",
      "Model fingerprint: 0xb32425d9\n",
      "Variable types: 0 continuous, 1265 integer (1265 binary)\n",
      "Coefficient statistics:\n",
      "  Matrix range     [1e+00, 2e+00]\n",
      "  Objective range  [1e+00, 1e+00]\n",
      "  Bounds range     [1e+00, 1e+00]\n",
      "  RHS range        [1e+00, 2e+01]\n",
      "Presolve removed 2508 rows and 1205 columns\n",
      "Presolve time: 0.02s\n",
      "Presolved: 23 rows, 60 columns, 120 nonzeros\n",
      "Variable types: 0 continuous, 60 integer (60 binary)\n",
      "Found heuristic solution: objective 5.0000000\n",
      "\n",
      "Explored 0 nodes (0 simplex iterations) in 0.04 seconds (0.01 work units)\n",
      "Thread count was 12 (of 12 available processors)\n",
      "\n",
      "Solution count 1: 5 \n",
      "\n",
      "Optimal solution found (tolerance 1.00e-04)\n",
      "Best objective 5.000000000000e+00, best bound 5.000000000000e+00, gap 0.0000%\n"
     ]
    }
   ],
   "source": [
    "m.optimize()\n",
    "m.write(\"archivo.lp\")"
   ]
  },
  {
   "attachments": {},
   "cell_type": "markdown",
   "metadata": {},
   "source": [
    "### Validación del Modelo"
   ]
  },
  {
   "attachments": {},
   "cell_type": "markdown",
   "metadata": {},
   "source": [
    "**Verficación de las asignaciones de las variables y**"
   ]
  },
  {
   "attachments": {},
   "cell_type": "markdown",
   "metadata": {},
   "source": [
    "Tenemos que $y_i = 1$ si existe algun $x_{ijk}$ que es uno, entonces  la suma de todas estas diferencias debería ser 0"
   ]
  },
  {
   "cell_type": "code",
   "execution_count": 50,
   "metadata": {},
   "outputs": [
    {
     "name": "stdout",
     "output_type": "stream",
     "text": [
      "0.0\n"
     ]
    }
   ],
   "source": [
    "acom=0\n",
    "for p in listaProf:\n",
    "    \n",
    "    acom+=sum([y[p].X - any(x[p,c,h].X for c in listaClases for h in range(1,21))])\n",
    "    \n",
    "print(acom)"
   ]
  },
  {
   "attachments": {},
   "cell_type": "markdown",
   "metadata": {},
   "source": [
    "**Verificación de las asignaciones de las variables z**"
   ]
  },
  {
   "attachments": {},
   "cell_type": "markdown",
   "metadata": {},
   "source": [
    "Misma lógica que el anterior"
   ]
  },
  {
   "cell_type": "code",
   "execution_count": 51,
   "metadata": {},
   "outputs": [
    {
     "name": "stdout",
     "output_type": "stream",
     "text": [
      "0.0\n"
     ]
    }
   ],
   "source": [
    "acom=0\n",
    "for p in listaProf:\n",
    "    for c in listaClases:\n",
    "        acom+=sum([z[p,c].X - any(x[p,c,h].X for h in range(1,21))])\n",
    "    \n",
    "print(acom)"
   ]
  },
  {
   "attachments": {},
   "cell_type": "markdown",
   "metadata": {},
   "source": [
    "**Verificación retricción 1: Cada clase tiene un profesor**"
   ]
  },
  {
   "attachments": {},
   "cell_type": "markdown",
   "metadata": {},
   "source": [
    "La suma de todos las clases que tienen un profesor asignado debería ser igual al número de clases, en este caso 12"
   ]
  },
  {
   "cell_type": "code",
   "execution_count": 52,
   "metadata": {},
   "outputs": [
    {
     "name": "stdout",
     "output_type": "stream",
     "text": [
      "12.0\n",
      "12\n"
     ]
    }
   ],
   "source": [
    "suma=0\n",
    "for c in listaClases:\n",
    "    suma+=sum(z[p,c].X for p in listaProf)\n",
    "\n",
    "print(suma)\n",
    "\n",
    "\n",
    "acom=0\n",
    "for c in listaClases:\n",
    "    acom+=any(z[p,c].X for p in listaProf)\n",
    "print(acom)"
   ]
  },
  {
   "attachments": {},
   "cell_type": "markdown",
   "metadata": {},
   "source": [
    "**Verificación retricción 2: Idioma** "
   ]
  },
  {
   "attachments": {},
   "cell_type": "markdown",
   "metadata": {},
   "source": [
    "Usamos la función any para ver si existe un profesor que de una clase en íngles y no sepa hablarlo"
   ]
  },
  {
   "cell_type": "code",
   "execution_count": 53,
   "metadata": {},
   "outputs": [
    {
     "name": "stdout",
     "output_type": "stream",
     "text": [
      "False\n"
     ]
    }
   ],
   "source": [
    "\n",
    "acom=any(z[p,c].X for p in listaProf for c in  listaClases if dic_prof[p][1] == 0 and dic_class[c][1] == 1)\n",
    "\n",
    "print(acom)"
   ]
  },
  {
   "attachments": {},
   "cell_type": "markdown",
   "metadata": {},
   "source": [
    "**Verificación retricción 3: Especialidad**"
   ]
  },
  {
   "attachments": {},
   "cell_type": "markdown",
   "metadata": {},
   "source": [
    "Misma lógica que el anterior"
   ]
  },
  {
   "cell_type": "code",
   "execution_count": 54,
   "metadata": {},
   "outputs": [
    {
     "name": "stdout",
     "output_type": "stream",
     "text": [
      "False\n"
     ]
    }
   ],
   "source": [
    "acom = any(z[p,c].X for p in listaProf for c in listaClases if (dic_class[c][2] not in dic_prof[p][2]))\n",
    "print(acom)"
   ]
  },
  {
   "attachments": {},
   "cell_type": "markdown",
   "metadata": {},
   "source": [
    "**Verificación retricción 4: Carga Máxima del profesor**"
   ]
  },
  {
   "attachments": {},
   "cell_type": "markdown",
   "metadata": {},
   "source": [
    "Aplicamos una función lambda para ver que profesores tienen una carga mayor a su maxima posible, la suma de todos estos profesores debería ser 0"
   ]
  },
  {
   "cell_type": "code",
   "execution_count": 55,
   "metadata": {},
   "outputs": [
    {
     "name": "stdout",
     "output_type": "stream",
     "text": [
      "0\n"
     ]
    }
   ],
   "source": [
    "suma = sum(filter(lambda x: x < 0, [dic_prof[p][3]- sum(x[p,c,h].X*2 for c in listaClases for h in range(1,21))  for p in listaProf ]  ))\n",
    "\n",
    "print(suma)"
   ]
  },
  {
   "attachments": {},
   "cell_type": "markdown",
   "metadata": {},
   "source": [
    "**Verificación retricción 5: Restricción horas por unidad de formación**"
   ]
  },
  {
   "cell_type": "code",
   "execution_count": 56,
   "metadata": {},
   "outputs": [
    {
     "name": "stdout",
     "output_type": "stream",
     "text": [
      "0.0\n"
     ]
    }
   ],
   "source": [
    "acom=0\n",
    "\n",
    "for c in listaClases:\n",
    "    acom+= dic_class[c][3] - sum(x[p,c,h].X*2 for p in listaProf for h in range(1,21))\n",
    "    \n",
    "print(acom)"
   ]
  },
  {
   "attachments": {},
   "cell_type": "markdown",
   "metadata": {},
   "source": [
    "### Muestra de Resultados"
   ]
  },
  {
   "attachments": {},
   "cell_type": "markdown",
   "metadata": {},
   "source": [
    "**Muestra de resultados Horario**"
   ]
  },
  {
   "cell_type": "code",
   "execution_count": 57,
   "metadata": {},
   "outputs": [
    {
     "name": "stdout",
     "output_type": "stream",
     "text": [
      "{8: ['Clase_34', 'Clase_23', 'Clase_200', 'Clase_68'], 10: ['Clase_34', 'Clase_68'], 14: ['Clase_34', 'Clase_68', 'Clase_102'], 16: ['Clase_34', 'Clase_23', 'Clase_200', 'Clase_68', 'Clase_102'], 6: ['Clase_42', 'Clase_25', 'Clase_194', 'Clase_62'], 12: ['Clase_42', 'Clase_62', 'Clase_144'], 17: ['Clase_42', 'Clase_187', 'Clase_62', 'Clase_102'], 18: ['Clase_42', 'Clase_25', 'Clase_194', 'Clase_62', 'Clase_102'], 11: ['Clase_187', 'Clase_144'], 19: ['Clase_95'], 20: ['Clase_95'], 13: ['Clase_102'], 15: ['Clase_102']}\n",
      "[[['   N    '], ['   N    '], ['   N    '], ['Clase_102'], ['Clase_42', 'Clase_187', 'Clase_62', 'Clase_102']], [['   N    '], ['Clase_42', 'Clase_25', 'Clase_194', 'Clase_62'], ['Clase_34', 'Clase_68'], ['Clase_34', 'Clase_68', 'Clase_102'], ['Clase_42', 'Clase_25', 'Clase_194', 'Clase_62', 'Clase_102']], [['   N    '], ['   N    '], ['Clase_187', 'Clase_144'], ['Clase_102'], ['Clase_95']], [['   N    '], ['Clase_34', 'Clase_23', 'Clase_200', 'Clase_68'], ['Clase_42', 'Clase_62', 'Clase_144'], ['Clase_34', 'Clase_23', 'Clase_200', 'Clase_68', 'Clase_102'], ['Clase_95']]]\n"
     ]
    }
   ],
   "source": [
    "dic_horarios={  }\n",
    "\n",
    "for p in listaProf:\n",
    "        for c in listaClases:\n",
    "            for i in range(1,21):\n",
    "                if i in dic_horarios:\n",
    "                    if c not in dic_horarios[i] and x[p,c,i].X>0:\n",
    "                        dic_horarios[i].append(c)\n",
    "                else:\n",
    "                    if x[p,c,i].X>0:\n",
    "                        dic_horarios[i]=[c]\n",
    "    \n",
    "print(dic_horarios)    \n",
    "\n",
    "\n",
    "l=[]\n",
    "for i in range(1,5):\n",
    "    l2=[]\n",
    "    for j in range(1,21):\n",
    "        if j%4==i%4 and j in dic_horarios:\n",
    "            l2.append(dic_horarios[j])\n",
    "        \n",
    "        elif j%4==i%4 and j not in dic_horarios:\n",
    "            l2.append([\"   N    \"])\n",
    "\n",
    "    l.append(l2)\n",
    "\n",
    "    \n",
    "\n",
    "print(l)\n",
    "\n",
    "\n",
    "        \n",
    "\n",
    "\n",
    "\n",
    "title=[\"    \",\"Lunes\",\"Martes\",\"Miércoles\",\"Jueves\",\"Viernes\"]\n",
    "\n",
    "\n",
    "import html\n",
    "\n",
    "# Crear una tabla HTML\n",
    "tabla_html = \"<table>\\n\"\n",
    "tabla_html += \"<tr>\\n\"\n",
    "for columna in title:\n",
    "    if columna==\"    \":\n",
    "        tabla_html += f\"<td >{columna}</td>\\n\"\n",
    "    else:\n",
    "        tabla_html += f\"<td class=\\\"f \\\">{columna}</td>\\n\"\n",
    "tabla_html += \"</tr>\\n\"\n",
    "\n",
    "\n",
    "# Iterar sobre los datos y agregar las filas a la tabla\n",
    "\n",
    "l_horarios=[\"7:00 am - 9:00 am\", \"9:00 am - 11:00 am\" , \"11:00 am - 1:00 pm\",\"1:00 pm - 3:00 pm\"]\n",
    "ind=0\n",
    "for fila in l:\n",
    "    tabla_html += \"<tr>\\n\"\n",
    "    tabla_html += f\"<td class=\\\"g\\\"> {l_horarios[ind]} </td>\\n\"\n",
    "    for columna in fila:\n",
    "        tabla_html += \"<td>\\n <ul>\\n\"\n",
    "        for s in columna:\n",
    "            if s == \"   N    \":\n",
    "                tabla_html += \"Sin clases\"\n",
    "            else:\n",
    "                tabla_html +=f\"<li>{s}</li>\\n\"\n",
    "\n",
    "        tabla_html += \"</ul>\\n</td>\\n\"\n",
    "        \n",
    "    tabla_html += \"</tr>\\n\"\n",
    "\n",
    "    ind+=1\n",
    "\n",
    "# Cerrar la tabla HTML\n",
    "tabla_html += \"</table>\"\n",
    "\n",
    "# Imprimir la tabla HTML\n",
    "\n",
    "\n",
    "\n",
    "with open(\"archivoPrueba.html\", \"w\",encoding='utf-8') as archivo:\n",
    "    archivo.write(\n",
    "    \"\"\"\n",
    "<html >\n",
    "  <head>\n",
    "    <style>\n",
    "      body {\n",
    "        background-color: #f2f2f2;\n",
    "        font-family: Arial, sans-serif;\n",
    "      }\n",
    "      table {\n",
    "        background-color: #fff;\n",
    "        border-collapse: collapse;\n",
    "        width: 100%;\n",
    "      }\n",
    "      th, td {\n",
    "        border: 1px solid #ddd;\n",
    "        padding: 8px;\n",
    "        text-align: left;\n",
    "      }\n",
    "      th {\n",
    "        background-color: #4CAF50;\n",
    "        color: #fff;\n",
    "      }\n",
    "      header {\n",
    "        background-color: #CFEAEC ;\n",
    "        padding: 10px;\n",
    "        text-align: center;\n",
    "        font-size: 26px;\n",
    "        font-weight: bold;\n",
    "      }\n",
    "\n",
    "      .g{\n",
    "        background-color:  #64FCBC;\n",
    "      }\n",
    "      .f{\n",
    "        background-color:  #CAF36B ;\n",
    "        font-weight: bold;\n",
    "        text-align: center;\n",
    "        font-size: 26px;\n",
    "      }\n",
    "    </style>\n",
    "  </head>\n",
    "  <body>\n",
    "    <header>\n",
    "\t\t<h1>Visualización de datos tipo horario</h1>\n",
    "\t  </header>\n",
    "    \"\"\"\n",
    "    )\n",
    "    archivo.write(tabla_html)"
   ]
  },
  {
   "attachments": {},
   "cell_type": "markdown",
   "metadata": {},
   "source": [
    "**Muestra de datos DataFrame**"
   ]
  },
  {
   "cell_type": "code",
   "execution_count": 58,
   "metadata": {},
   "outputs": [
    {
     "name": "stdout",
     "output_type": "stream",
     "text": [
      "{'Clase_1': ['1', 1, 'R', 12, 'F1001B', 'Modelación de la Ingeniería y Ciencias', '101'], 'Clase_2': ['2', 0, 'R', 12, 'F1001B', 'Modelación de la Ingeniería y Ciencias', '102'], 'Clase_3': ['3', 0, 'R', 12, 'F1001B', 'Modelación de la Ingeniería y Ciencias', '103'], 'Clase_4': ['4', 0, 'R', 12, 'F1001B', 'Modelación de la Ingeniería y Ciencias', '104'], 'Clase_5': ['5', 0, 'R', 12, 'F1001B', 'Modelación de la Ingeniería y Ciencias', '105'], 'Clase_6': ['6', 0, 'R', 12, 'F1001B', 'Modelación de la Ingeniería y Ciencias', '106'], 'Clase_7': ['7', 0, 'R', 12, 'F1001B', 'Modelación de la Ingeniería y Ciencias', '107'], 'Clase_8': ['8', 1, 'R', 12, 'F1001B', 'Modelación de la Ingeniería y Ciencias', '108'], 'Clase_9': ['9', 0, 'R', 12, 'F1001B', 'Modelación de la Ingeniería y Ciencias', '109'], 'Clase_10': ['10', 0, 'R', 12, 'F1001B', 'Modelación de la Ingeniería y Ciencias', '110'], 'Clase_11': ['11', 1, 'R', 12, 'F1001B', 'Modelación de la Ingeniería y Ciencias', '111'], 'Clase_12': ['12', 0, 'R', 12, 'F1001B', 'Modelación de la Ingeniería y Ciencias', '112'], 'Clase_13': ['13', 0, 'R', 12, 'F1001B', 'Modelación de la Ingeniería y Ciencias', '113'], 'Clase_14': ['14', 0, 'R', 12, 'F1001B', 'Modelación de la Ingeniería y Ciencias', '114'], 'Clase_15': ['15', 0, 'R', 12, 'F1001B', 'Modelación de la Ingeniería y Ciencias', '115'], 'Clase_16': ['16', 0, 'R', 12, 'F1001B', 'Modelación de la Ingeniería y Ciencias', '116'], 'Clase_17': ['17', 0, 'R', 12, 'F1001B', 'Modelación de la Ingeniería y Ciencias', '117'], 'Clase_18': ['18', 0, 'R', 12, 'F1001B', 'Modelación de la Ingeniería y Ciencias', '118'], 'Clase_19': ['19', 0, 'R', 12, 'F1001B', 'Modelación de la Ingeniería y Ciencias', '119'], 'Clase_22': ['22', 0, 'R', 8, 'F1002B', 'Modelación del movimiento en bioingeniería y procesos químicos', '216'], 'Clase_23': ['23', 0, 'R', 4, 'F1002B', 'Modelación del movimiento en bioingeniería y procesos químicos', '216'], 'Clase_24': ['24', 0, 'R', 8, 'F1002B', 'Modelación del movimiento en bioingeniería y procesos químicos', '217'], 'Clase_25': ['25', 0, 'R', 4, 'F1002B', 'Modelación del movimiento en bioingeniería y procesos químicos', '217'], 'Clase_26': ['26', 0, 'R', 8, 'F1002B', 'Modelación del movimiento en bioingeniería y procesos químicos', '218'], 'Clase_27': ['27', 0, 'R', 4, 'F1002B', 'Modelación del movimiento en bioingeniería y procesos químicos', '218'], 'Clase_28': ['28', 0, 'R', 8, 'F1003B', 'Aplicación de las leyes de conservación en ingeniería de procesos', '316'], 'Clase_29': ['29', 0, 'R', 4, 'F1003B', 'Aplicación de las leyes de conservación en ingeniería de procesos', '316'], 'Clase_30': ['30', 0, 'R', 8, 'F1003B', 'Aplicación de las leyes de conservación en ingeniería de procesos', '317'], 'Clase_31': ['31', 0, 'R', 4, 'F1003B', 'Aplicación de las leyes de conservación en ingeniería de procesos', '317'], 'Clase_32': ['32', 0, 'R', 8, 'F1003B', 'Aplicación de las leyes de conservación en ingeniería de procesos', '318'], 'Clase_33': ['33', 0, 'R', 4, 'F1003B', 'Aplicación de las leyes de conservación en ingeniería de procesos', '318'], 'Clase_34': ['34', 0, 'C', 8, 'F1004B', 'Modelación computacional del movimiento', '211'], 'Clase_35': ['35', 0, 'C', 4, 'F1004B', 'Modelación computacional del movimiento', '211'], 'Clase_36': ['36', 0, 'C', 8, 'F1004B', 'Modelación computacional del movimiento', '212'], 'Clase_37': ['37', 0, 'C', 4, 'F1004B', 'Modelación computacional del movimiento', '212'], 'Clase_38': ['38', 0, 'C', 8, 'F1004B', 'Modelación computacional del movimiento', '213'], 'Clase_39': ['39', 0, 'C', 4, 'F1004B', 'Modelación computacional del movimiento', '213'], 'Clase_40': ['40', 0, 'C', 8, 'F1004B', 'Modelación computacional del movimiento', '214'], 'Clase_41': ['41', 0, 'C', 4, 'F1004B', 'Modelación computacional del movimiento', '214'], 'Clase_42': ['42', 1, 'C', 8, 'F1004B', 'Modelación computacional del movimiento', '215'], 'Clase_43': ['43', 1, 'C', 4, 'F1004B', 'Modelación computacional del movimiento', '215'], 'Clase_44': ['44', 0, 'C', 8, 'F1005B', 'Modelación computacional aplicando las leyes de conservación', '311'], 'Clase_45': ['45', 0, 'C', 4, 'F1005B', 'Modelación computacional aplicando las leyes de conservación', '311'], 'Clase_46': ['46', 0, 'C', 8, 'F1005B', 'Modelación computacional aplicando las leyes de conservación', '312'], 'Clase_47': ['47', 0, 'C', 4, 'F1005B', 'Modelación computacional aplicando las leyes de conservación', '312'], 'Clase_48': ['48', 0, 'C', 8, 'F1005B', 'Modelación computacional aplicando las leyes de conservación', '313'], 'Clase_49': ['49', 0, 'C', 4, 'F1005B', 'Modelación computacional aplicando las leyes de conservación', '313'], 'Clase_50': ['50', 0, 'C', 8, 'F1005B', 'Modelación computacional aplicando las leyes de conservación', '314'], 'Clase_51': ['51', 0, 'C', 4, 'F1005B', 'Modelación computacional aplicando las leyes de conservación', '314'], 'Clase_52': ['52', 1, 'C', 8, 'F1005B', 'Modelación computacional aplicando las leyes de conservación', '315'], 'Clase_53': ['53', 1, 'C', 4, 'F1005B', 'Modelación computacional aplicando las leyes de conservación', '315'], 'Clase_54': ['54', 1, 'F', 8, 'F1006B', 'Modelación del movimiento en ingeniería', '201'], 'Clase_55': ['55', 1, 'F', 4, 'F1006B', 'Modelación del movimiento en ingeniería', '201'], 'Clase_56': ['56', 0, 'F', 8, 'F1006B', 'Modelación del movimiento en ingeniería', '202'], 'Clase_57': ['57', 0, 'F', 4, 'F1006B', 'Modelación del movimiento en ingeniería', '202'], 'Clase_58': ['58', 0, 'F', 8, 'F1006B', 'Modelación del movimiento en ingeniería', '203'], 'Clase_59': ['59', 0, 'F', 4, 'F1006B', 'Modelación del movimiento en ingeniería', '203'], 'Clase_60': ['60', 0, 'F', 8, 'F1006B', 'Modelación del movimiento en ingeniería', '204'], 'Clase_61': ['61', 0, 'F', 4, 'F1006B', 'Modelación del movimiento en ingeniería', '204'], 'Clase_62': ['62', 0, 'F', 8, 'F1006B', 'Modelación del movimiento en ingeniería', '205'], 'Clase_63': ['63', 0, 'F', 4, 'F1006B', 'Modelación del movimiento en ingeniería', '205'], 'Clase_64': ['64', 0, 'F', 8, 'F1006B', 'Modelación del movimiento en ingeniería', '206'], 'Clase_65': ['65', 0, 'F', 4, 'F1006B', 'Modelación del movimiento en ingeniería', '206'], 'Clase_66': ['66', 0, 'F', 8, 'F1006B', 'Modelación del movimiento en ingeniería', '207'], 'Clase_67': ['67', 1, 'F', 4, 'F1006B', 'Modelación del movimiento en ingeniería', '207'], 'Clase_68': ['68', 1, 'F', 8, 'F1006B', 'Modelación del movimiento en ingeniería', '208'], 'Clase_69': ['69', 1, 'F', 4, 'F1006B', 'Modelación del movimiento en ingeniería', '208'], 'Clase_70': ['70', 0, 'F', 8, 'F1006B', 'Modelación del movimiento en ingeniería', '209'], 'Clase_71': ['71', 0, 'F', 4, 'F1006B', 'Modelación del movimiento en ingeniería', '209'], 'Clase_72': ['72', 0, 'F', 8, 'F1006B', 'Modelación del movimiento en ingeniería', '210'], 'Clase_73': ['73', 0, 'F', 4, 'F1006B', 'Modelación del movimiento en ingeniería', '210'], 'Clase_74': ['74', 1, 'C', 8, 'F1007B', 'Aplicación de las leyes de conservación en sistemas ingenieriles', '301'], 'Clase_75': ['75', 1, 'C', 4, 'F1007B', 'Aplicación de las leyes de conservación en sistemas ingenieriles', '301'], 'Clase_76': ['76', 0, 'C', 8, 'F1007B', 'Aplicación de las leyes de conservación en sistemas ingenieriles', '302'], 'Clase_77': ['77', 0, 'C', 4, 'F1007B', 'Aplicación de las leyes de conservación en sistemas ingenieriles', '302'], 'Clase_78': ['78', 0, 'C', 8, 'F1007B', 'Aplicación de las leyes de conservación en sistemas ingenieriles', '303'], 'Clase_79': ['79', 0, 'C', 4, 'F1007B', 'Aplicación de las leyes de conservación en sistemas ingenieriles', '303'], 'Clase_80': ['80', 0, 'C', 8, 'F1007B', 'Aplicación de las leyes de conservación en sistemas ingenieriles', '304'], 'Clase_81': ['81', 0, 'C', 4, 'F1007B', 'Aplicación de las leyes de conservación en sistemas ingenieriles', '304'], 'Clase_82': ['82', 0, 'C', 8, 'F1007B', 'Aplicación de las leyes de conservación en sistemas ingenieriles', '305'], 'Clase_83': ['83', 0, 'C', 4, 'F1007B', 'Aplicación de las leyes de conservación en sistemas ingenieriles', '305'], 'Clase_84': ['84', 0, 'C', 8, 'F1007B', 'Aplicación de las leyes de conservación en sistemas ingenieriles', '306'], 'Clase_85': ['85', 0, 'F', 4, 'F1007B', 'Aplicación de las leyes de conservación en sistemas ingenieriles', '306'], 'Clase_86': ['86', 0, 'F', 8, 'F1007B', 'Aplicación de las leyes de conservación en sistemas ingenieriles', '307'], 'Clase_87': ['87', 0, 'F', 4, 'F1007B', 'Aplicación de las leyes de conservación en sistemas ingenieriles', '307'], 'Clase_88': ['88', 1, 'F', 8, 'F1007B', 'Aplicación de las leyes de conservación en sistemas ingenieriles', '308'], 'Clase_89': ['89', 1, 'F', 4, 'F1007B', 'Aplicación de las leyes de conservación en sistemas ingenieriles', '308'], 'Clase_90': ['90', 0, 'F', 8, 'F1007B', 'Aplicación de las leyes de conservación en sistemas ingenieriles', '309'], 'Clase_91': ['91', 0, 'F', 4, 'F1007B', 'Aplicación de las leyes de conservación en sistemas ingenieriles', '309'], 'Clase_92': ['92', 0, 'F', 8, 'F1007B', 'Aplicación de las leyes de conservación en sistemas ingenieriles', '310'], 'Clase_93': ['93', 0, 'F', 4, 'F1007B', 'Aplicación de las leyes de conservación en sistemas ingenieriles', '310'], 'Clase_94': ['94', 0, 'M', 8, 'F1008B', 'Modelación de ingeniería y ciencias', '219'], 'Clase_95': ['95', 0, 'M', 4, 'F1008B', 'Modelación de ingeniería y ciencias', '219'], 'Clase_96': ['96', 0, 'M', 8, 'F1009 ', 'Análisis de métodos matemáticos para la física', '616'], 'Clase_97': ['97', 0, 'M', 4, 'F1009 ', 'Análisis de métodos matemáticos para la física', '626'], 'Clase_98': ['98', 0, 'M', 8, 'F1009B', 'Aplicación de las leyes de conservación en ciencias', '319'], 'Clase_99': ['99', 0, 'M', 4, 'F1009B', 'Aplicación de las leyes de conservación en ciencias', '319'], 'Clase_100': ['100', 0, 'M', 4, 'F1010', 'Modelación con ecuaciones diferenciales ', '516'], 'Clase_101': ['101', 0, 'M', 4, 'F1010', 'Modelación con ecuaciones diferenciales ', '526'], 'Clase_102': ['102', 0, 'M', 12, 'MA1001B', 'Modelación estadística para la toma de decisiones', '216'], 'Clase_103': ['103', 0, 'M', 12, 'MA1002B', 'Modelación de sistemas con ecuaciones diferenciales', '316'], 'Clase_104': ['104', 0, 'M', 4, 'MA1022', 'Pensamiento matemático I', '601'], 'Clase_105': ['105', 0, 'M', 4, 'MA1022', 'Pensamiento matemático I', '602'], 'Clase_106': ['106', 0, 'M', 4, 'MA1025', 'Métodos cuantitativos II', '301'], 'Clase_107': ['107', 0, 'M', 4, 'MA1026', 'Pensamiento matemático III', '401'], 'Clase_108': ['108', 0, 'M', 4, 'MA1027', 'Razonamiento matemático', '301'], 'Clase_109': ['109', 0, 'M', 4, 'MA1027', 'Razonamiento matemático', '302'], 'Clase_110': ['110', 0, 'M', 4, 'MA1027', 'Razonamiento matemático', '303'], 'Clase_111': ['111', 0, 'M', 4, 'MA1027', 'Razonamiento matemático', '304'], 'Clase_112': ['112', 0, 'M', 4, 'MA1027', 'Razonamiento matemático', '305'], 'Clase_113': ['113', 0, 'M', 4, 'MA1027', 'Razonamiento matemático', '306'], 'Clase_114': ['114', 0, 'M', 4, 'MA1027', 'Razonamiento matemático', '307'], 'Clase_115': ['115', 0, 'M', 4, 'MA1027', 'Razonamiento matemático', '308'], 'Clase_116': ['116', 0, 'M', 4, 'MA1027', 'Razonamiento matemático', '309'], 'Clase_117': ['117', 1, 'M', 4, 'MA1027', 'Razonamiento matemático', '330'], 'Clase_118': ['118', 1, 'M', 4, 'MA1027', 'Razonamiento matemático', '331'], 'Clase_119': ['119', 1, 'M', 4, 'MA1027', 'Razonamiento matemático', '332'], 'Clase_120': ['120', 0, 'M', 4, 'MA1027', 'Razonamiento matemático', '311'], 'Clase_121': ['121', 1, 'M', 4, 'MA1028', 'Modelación matemática fundamental', '501'], 'Clase_122': ['122', 0, 'M', 4, 'MA1028', 'Modelación matemática fundamental', '502'], 'Clase_123': ['123', 0, 'M', 4, 'MA1028', 'Modelación matemática fundamental', '503'], 'Clase_124': ['124', 0, 'M', 4, 'MA1028', 'Modelación matemática fundamental', '504'], 'Clase_125': ['125', 0, 'M', 4, 'MA1028', 'Modelación matemática fundamental', '505'], 'Clase_126': ['126', 0, 'M', 4, 'MA1028', 'Modelación matemática fundamental', '506'], 'Clase_127': ['127', 0, 'M', 4, 'MA1028', 'Modelación matemática fundamental', '507'], 'Clase_128': ['128', 1, 'M', 4, 'MA1028', 'Modelación matemática fundamental', '508'], 'Clase_129': ['129', 0, 'M', 4, 'MA1028', 'Modelación matemática fundamental', '509'], 'Clase_130': ['130', 0, 'M', 4, 'MA1028', 'Modelación matemática fundamental', '510'], 'Clase_131': ['131', 0, 'M', 4, 'MA1028', 'Modelación matemática fundamental', '511'], 'Clase_132': ['132', 0, 'M', 4, 'MA1028', 'Modelación matemática fundamental', '512'], 'Clase_133': ['133', 0, 'M', 4, 'MA1028', 'Modelación matemática fundamental', '513'], 'Clase_134': ['134', 0, 'M', 4, 'MA1028', 'Modelación matemática fundamental', '514'], 'Clase_135': ['135', 1, 'M', 4, 'MA1028', 'Modelación matemática fundamental', '515'], 'Clase_136': ['136', 0, 'M', 4, 'MA1028', 'Modelación matemática fundamental', '516'], 'Clase_137': ['137', 0, 'M', 4, 'MA1028', 'Modelación matemática fundamental', '517'], 'Clase_138': ['138', 0, 'M', 4, 'MA1028', 'Modelación matemática fundamental', '519'], 'Clase_139': ['139', 0, 'M', 4, 'MA1033', 'Análisis de ecuaciones diferenciales ', '114'], 'Clase_140': ['140', 0, 'M', 4, 'MA1033', 'Análisis de ecuaciones diferenciales ', '115'], 'Clase_141': ['141', 0, 'M', 4, 'MA1033', 'Análisis de ecuaciones diferenciales ', '117'], 'Clase_142': ['142', 0, 'M', 4, 'MA1034', 'Modelación de procesos mediante álgebra lineal', '101'], 'Clase_143': ['143', 0, 'M', 4, 'MA1034', 'Modelación de procesos mediante álgebra lineal', '102'], 'Clase_144': ['144', 0, 'M', 4, 'MA1034', 'Modelación de procesos mediante álgebra lineal', '103'], 'Clase_145': ['145', 0, 'M', 4, 'MA1034', 'Modelación de procesos mediante álgebra lineal', '104'], 'Clase_146': ['146', 0, 'M', 4, 'MA1034', 'Modelación de procesos mediante álgebra lineal', '107'], 'Clase_147': ['147', 0, 'M', 4, 'MA1034', 'Modelación de procesos mediante álgebra lineal', '108'], 'Clase_148': ['148', 0, 'M', 4, 'MA1034', 'Modelación de procesos mediante álgebra lineal', '111'], 'Clase_149': ['149', 0, 'M', 4, 'MA1034', 'Modelación de procesos mediante álgebra lineal', '112'], 'Clase_150': ['150', 0, 'M', 4, 'MA1034', 'Modelación de procesos mediante álgebra lineal', '113'], 'Clase_151': ['151', 0, 'F', 4, 'MA1035', 'Modelación en ingeniería mediante sistémas dinámicos', '501'], 'Clase_152': ['152', 0, 'F', 4, 'MA1035', 'Modelación en ingeniería mediante sistémas dinámicos', '502'], 'Clase_153': ['153', 0, 'F', 4, 'MA1035', 'Modelación en ingeniería mediante sistémas dinámicos', '503'], 'Clase_154': ['154', 0, 'F', 4, 'MA1035', 'Modelación en ingeniería mediante sistémas dinámicos', '504'], 'Clase_155': ['155', 0, 'F', 4, 'MA1035', 'Modelación en ingeniería mediante sistémas dinámicos', '507'], 'Clase_156': ['156', 0, 'F', 4, 'MA1035', 'Modelación en ingeniería mediante sistémas dinámicos', '508'], 'Clase_157': ['157', 0, 'F', 4, 'MA1035', 'Modelación en ingeniería mediante sistémas dinámicos', '508'], 'Clase_158': ['158', 0, 'F', 4, 'MA1035', 'Modelación en ingeniería mediante sistémas dinámicos', '511'], 'Clase_159': ['159', 0, 'F', 4, 'MA1035', 'Modelación en ingeniería mediante sistémas dinámicos', '512'], 'Clase_160': ['160', 0, 'F', 4, 'MA1035', 'Modelación en ingeniería mediante sistémas dinámicos', '523'], 'Clase_161': ['161', 0, 'M', 4, 'MA1036', 'Fundamentación del álgebra lineal ', '116'], 'Clase_162': ['162', 0, 'M', 4, 'MA1036', 'Fundamentación del álgebra lineal ', '126'], 'Clase_163': ['163', 0, 'M', 4, 'MA1042', 'Matemáticas y ciencia de datos para la toma de decisiones', '601'], 'Clase_164': ['164', 0, 'M', 4, 'MA1042', 'Matemáticas y ciencia de datos para la toma de decisiones', '602'], 'Clase_165': ['165', 0, 'M', 4, 'MA1042', 'Matemáticas y ciencia de datos para la toma de decisiones', '603'], 'Clase_166': ['166', 0, 'M', 4, 'MA1047', 'Razonamiento matemático en el ambiente construido', '601'], 'Clase_167': ['167', 0, 'M', 4, 'MA1047', 'Razonamiento matemático en el ambiente construido', '602'], 'Clase_168': ['168', 0, 'M', 4, 'MA1047', 'Razonamiento matemático en el ambiente construido', '603'], 'Clase_169': ['169', 0, 'C', 16, 'MA2003B', 'Aplicación de métodos multivariados en ciencia de datos', '101'], 'Clase_170': ['170', 0, 'C', 16, 'MA2004B', 'Optimización estocástica', '201'], 'Clase_171': ['171', 0, 'C', 16, 'MA2005B', 'Apicación de criptografía y seguridad', '301'], 'Clase_172': ['172', 0, 'C', 4, 'MA2014', 'Análisis de métodos de razonamiento e incertidumbre', '103'], 'Clase_173': ['173', 0, 'C', 4, 'MA2015', 'Diseño de algoritmos matemáticos bioinspirados ', '202'], 'Clase_174': ['174', 0, 'Q', 4, 'Q1024', 'Aplicación del análisis químico', '205'], 'Clase_175': ['175', 0, 'Q', 4, 'Q1024', 'Aplicación del análisis químico', '206'], 'Clase_176': ['176', 0, 'Q', 4, 'Q1024', 'Aplicación del análisis químico', '209'], 'Clase_177': ['177', 0, 'Q', 4, 'Q1024', 'Aplicación del análisis químico', '210'], 'Clase_178': ['178', 0, 'Q', 4, 'Q1025', 'Experimentación en química analítica', '305'], 'Clase_179': ['179', 0, 'Q', 4, 'Q1025', 'Experimentación en química analítica', '306'], 'Clase_180': ['180', 0, 'Q', 4, 'Q1025', 'Experimentación en química analítica', '309'], 'Clase_181': ['181', 0, 'Q', 4, 'Q1025', 'Experimentación en química analítica', '310'], 'Clase_182': ['182', 0, 'Q', 4, 'Q1026', 'Análisis estructural de moléculas orgánicas y sus propiedades', '425'], 'Clase_183': ['183', 0, 'Q', 4, 'Q1026', 'Análisis estructural de moléculas orgánicas y sus propiedades', '426'], 'Clase_184': ['184', 0, 'Q', 4, 'Q1026', 'Análisis estructural de moléculas orgánicas y sus propiedades', '429'], 'Clase_185': ['185', 0, 'Q', 4, 'Q1026', 'Análisis estructural de moléculas orgánicas y sus propiedades', '430'], 'Clase_186': ['186', 0, 'Q', 4, 'Q1027', 'Fundamentación de la estructura y propiedades de biomoléculas', '325'], 'Clase_187': ['187', 0, 'Q', 4, 'Q1027', 'Fundamentación de la estructura y propiedades de biomoléculas', '326'], 'Clase_188': ['188', 0, 'Q', 4, 'Q1027', 'Fundamentación de la estructura y propiedades de biomoléculas', '329'], 'Clase_189': ['189', 0, 'Q', 4, 'Q1027', 'Fundamentación de la estructura y propiedades de biomoléculas', '330'], 'Clase_190': ['190', 0, 'F', 8, 'F1022B', 'Sistemas electromagnéticos para la construcción ', '103'], 'Clase_191': ['191', 0, 'F', 4, 'F1022B', 'Sistemas electromagnéticos para la construcción ', '103'], 'Clase_192': ['192', 0, 'F', 12, 'F2010B', 'Fundamentos de la acústica', '301'], 'Clase_193': ['193', 1, 'Q', 4, 'Q1028', 'Análisis de la estructura, propiedades y transformación de la materia I', '101'], 'Clase_194': ['194', 0, 'Q', 4, 'Q1028', 'Análisis de la estructura, propiedades y transformación de la materia I', '102'], 'Clase_195': ['195', 0, 'Q', 4, 'Q1028', 'Análisis de la estructura, propiedades y transformación de la materia I', '103'], 'Clase_196': ['196', 0, 'Q', 4, 'Q1028', 'Análisis de la estructura, propiedades y transformación de la materia I', '104'], 'Clase_197': ['197', 0, 'Q', 4, 'Q1028', 'Análisis de la estructura, propiedades y transformación de la materia I', '105'], 'Clase_198': ['198', 0, 'Q', 4, 'Q1028', 'Análisis de la estructura, propiedades y transformación de la materia I', '106'], 'Clase_199': ['199', 0, 'Q', 4, 'Q1028', 'Análisis de la estructura, propiedades y transformación de la materia I', '107'], 'Clase_200': ['200', 1, 'Q', 4, 'Q1028', 'Análisis de la estructura, propiedades y transformación de la materia I', '108'], 'Clase_201': ['201', 0, 'Q', 4, 'Q1028', 'Análisis de la estructura, propiedades y transformación de la materia I', '109'], 'Clase_202': ['202', 0, 'Q', 4, 'Q1028', 'Análisis de la estructura, propiedades y transformación de la materia I', '110'], 'Clase_203': ['203', 0, 'Q', 4, 'Q1028', 'Análisis de la estructura, propiedades y transformación de la materia I', '111'], 'Clase_204': ['204', 0, 'Q', 4, 'Q1028', 'Análisis de la estructura, propiedades y transformación de la materia I', '112'], 'Clase_205': ['205', 0, 'Q', 4, 'Q1028', 'Análisis de la estructura, propiedades y transformación de la materia I', '113'], 'Clase_206': ['206', 0, 'Q', 4, 'Q1028', 'Análisis de la estructura, propiedades y transformación de la materia I', '114'], 'Clase_207': ['207', 1, 'Q', 4, 'Q1028', 'Análisis de la estructura, propiedades y transformación de la materia I', '115'], 'Clase_208': ['208', 0, 'Q', 4, 'Q1028', 'Análisis de la estructura, propiedades y transformación de la materia I', '116'], 'Clase_209': ['209', 0, 'Q', 4, 'Q1028', 'Análisis de la estructura, propiedades y transformación de la materia I', '117'], 'Clase_210': ['210', 0, 'Q', 4, 'Q1028', 'Análisis de la estructura, propiedades y transformación de la materia I', '119'], 'Clase_211': ['211', 1, 'Q', 4, 'Q1029', 'Análisis de la estructura, propiedades y transformación de la materia II', '301'], 'Clase_212': ['212', 0, 'Q', 4, 'Q1029', 'Análisis de la estructura, propiedades y transformación de la materia II', '302'], 'Clase_213': ['213', 0, 'Q', 4, 'Q1029', 'Análisis de la estructura, propiedades y transformación de la materia II', '303'], 'Clase_214': ['214', 0, 'Q', 4, 'Q1029', 'Análisis de la estructura, propiedades y transformación de la materia II', '304'], 'Clase_215': ['215', 0, 'Q', 4, 'Q1029', 'Análisis de la estructura, propiedades y transformación de la materia II', '305'], 'Clase_216': ['216', 0, 'Q', 4, 'Q1029', 'Análisis de la estructura, propiedades y transformación de la materia II', '306'], 'Clase_217': ['217', 0, 'Q', 4, 'Q1029', 'Análisis de la estructura, propiedades y transformación de la materia II', '307'], 'Clase_218': ['218', 1, 'Q', 4, 'Q1029', 'Análisis de la estructura, propiedades y transformación de la materia II', '308'], 'Clase_219': ['219', 0, 'Q', 4, 'Q1029', 'Análisis de la estructura, propiedades y transformación de la materia II', '309'], 'Clase_220': ['220', 0, 'Q', 4, 'Q1029', 'Análisis de la estructura, propiedades y transformación de la materia II', '310'], 'Clase_221': ['221', 0, 'Q', 4, 'Q1029', 'Análisis de la estructura, propiedades y transformación de la materia II', '316'], 'Clase_222': ['222', 0, 'Q', 4, 'Q1029', 'Análisis de la estructura, propiedades y transformación de la materia II', '317'], 'Clase_223': ['223', 0, 'Q', 4, 'Q1029', 'Análisis de la estructura, propiedades y transformación de la materia II', '319']}\n",
      "{'Profesor_1': ['1', 1, 'M', 7, '1401'], 'Profesor_2': ['2', 0, 'Q', 17, '1402'], 'Profesor_3': ['3', 0, 'F-C', 12, '1406'], 'Profesor_4': ['4', 0, 'Q', 20, '2102'], 'Profesor_5': ['5', 0, 'R', 5, '2201'], 'Profesor_6': ['6', 0, 'M-F', 13, '2202'], 'Profesor_7': ['7', 1, 'Q', 9, '2403'], 'Profesor_8': ['8', 0, 'M', 9, '2404'], 'Profesor_9': ['9', 1, 'M-C', 19, '2405'], 'Profesor_10': ['10', 0, 'R', 5, '2408'], 'Profesor_11': ['11', 0, 'M', 16, '2409'], 'Profesor_12': ['12', 0, 'R', 4, '3102'], 'Profesor_13': ['13', 0, 'M-C', 19, '3103'], 'Profesor_14': ['14', 0, 'R-C', 9, '3104'], 'Profesor_15': ['15', 0, 'M-C', 16, '3201'], 'Profesor_16': ['16', 1, 'M', 6, '3202'], 'Profesor_17': ['17', 0, 'F-M', 4, '3302'], 'Profesor_18': ['18', 0, 'M-Q', 5, '3303'], 'Profesor_19': ['19', 0, 'R-C', 9, '3304'], 'Profesor_20': ['20', 1, 'F', 18, '3402'], 'Profesor_21': ['21', 0, 'R-C', 9, '3403'], 'Profesor_22': ['22', 0, 'F', 5, '3405'], 'Profesor_23': ['23', 0, 'Q', 27, '3406'], 'Profesor_24': ['24', 0, 'M-C', 9, '3407'], 'Profesor_25': ['25', 1, 'Q', 23, '3408'], 'Profesor_26': ['26', 0, 'M', 14, '3410'], 'Profesor_27': ['27', 1, 'F-C', 19, '4203'], 'Profesor_28': ['28', 0, 'F-M', 17, '4204'], 'Profesor_29': ['29', 1, 'R', 7, '4205'], 'Profesor_30': ['30', 0, 'M', 16, '4301'], 'Profesor_31': ['31', 0, 'M', 13, '4302'], 'Profesor_32': ['32', 1, 'R', 4, '4303'], 'Profesor_33': ['33', 0, 'M', 7, '4304'], 'Profesor_34': ['34', 0, 'Q', 5, '4305'], 'Profesor_35': ['35', 0, 'M', 5, '4402'], 'Profesor_36': ['36', 0, 'Q', 19, '2405'], 'Profesor_37': ['37', 1, 'F', 13, '2408'], 'Profesor_38': ['38', 0, 'R', 5, '2409'], 'Profesor_39': ['39', 0, 'F-M', 15, '3102'], 'Profesor_40': ['40', 0, 'M', 5, '3103'], 'Profesor_41': ['41', 0, 'F-C', 19, '3104'], 'Profesor_42': ['42', 1, 'F', 13, '3201'], 'Profesor_43': ['43', 0, 'R', 3, '3202'], 'Profesor_44': ['44', 1, 'M', 5, '3302'], 'Profesor_45': ['45', 0, 'F-C', 16, '3303'], 'Profesor_46': ['46', 0, 'Q', 3, '3304'], 'Profesor_47': ['47', 0, 'F-M', 4, '3402'], 'Profesor_48': ['48', 0, 'M', 13, '3403'], 'Profesor_49': ['49', 1, 'R', 5, '3405'], 'Profesor_50': ['50', 0, 'R', 5, '3406'], 'Profesor_51': ['51', 0, 'M', 21, '6201'], 'Profesor_52': ['52', 0, 'C', 19, '6202'], 'Profesor_53': ['53', 0, 'Q', 1, '6203'], 'Profesor_54': ['54', 0, 'F', 14, '6204'], 'Profesor_55': ['55', 0, 'Q', 9, '6205'], 'Profesor_56': ['56', 0, 'F', 3, '6206'], 'Profesor_57': ['57', 0, 'M-C', 18, '1401'], 'Profesor_58': ['58', 0, 'F', 13, '1402'], 'Profesor_59': ['59', 0, 'M', 19, '1406'], 'Profesor_60': ['60', 0, 'M', 17, '2102'], 'Profesor_61': ['61', 0, 'Q', 16, '2201'], 'Profesor_62': ['62', 0, 'M-C', 14, '2202'], 'Profesor_63': ['63', 0, 'M', 9, '2403'], 'Profesor_64': ['64', 0, 'M', 15, '2404'], 'Profesor_65': ['65', 0, 'F-M', 13, '2405'], 'Profesor_66': ['66', 0, 'M', 19, '2408'], 'Profesor_67': ['67', 0, 'F', 16, '2409'], 'Profesor_68': ['68', 0, 'F-C', 3, '3102'], 'Profesor_69': ['69', 0, 'Q', 4, '3103'], 'Profesor_70': ['70', 0, 'M-R', 5, '6206']}\n"
     ]
    }
   ],
   "source": [
    "import pandas as pd\n",
    "\n",
    "print(dic_decode)\n",
    "print(dic_decode_prof)\n",
    "if m.status == GRB.OPTIMAL:\n",
    "    data=[]\n",
    "    \n",
    "    for p in listaProf:\n",
    "        for c in listaClases:\n",
    "            lis=[]\n",
    "            for i in range(1,21):\n",
    "                if  x[p,c,i].X>0:\n",
    "                    lis.append(i)\n",
    "            \n",
    "            if lis:\n",
    "                str_hor=\" \"\n",
    "                for elm in lis:\n",
    "                    str_hor+=decode_hor[elm-1] + \",  \"\n",
    "\n",
    "                dic={ \"Clase\": c , \"Clave\":dic_decode[c][4], \"Nombre\":dic_decode[c][5], \"Profesor \": p,\" Grupo\":dic_decode[c][6], \"Horario\":str_hor,\"Salón\":dic_decode_prof[p][4] }\n",
    "                \n",
    "                \n",
    "                \n",
    "\n",
    "                data.append(dic)\n",
    "\n",
    "    df=pd.DataFrame(data)\n",
    "\n",
    "    html_table = df.to_html()\n",
    "\n",
    "    with open('tabla.html', 'w',encoding='utf-8') as f:\n",
    "        f.write(\n",
    "            \"\"\"\n",
    "<html>\n",
    "<head>\n",
    "\t<style>\n",
    "\t\tbody {\n",
    "\t\t\tbackground-color: #f2f2f2;\n",
    "\t\t\tfont-family: Arial, sans-serif;\n",
    "\t\t}\n",
    "\n",
    "\t\ttable {\n",
    "\t\t\tbackground-color: #fff;\n",
    "\t\t\tborder-collapse: collapse;\n",
    "\t\t\twidth: 100%;\n",
    "\t\t}\n",
    "\n",
    "\t\tth, td {\n",
    "\t\t\tborder: 1px solid #ddd;\n",
    "\t\t\tpadding: 8px;\n",
    "\t\t\ttext-align: left;\n",
    "\t\t}\n",
    "\n",
    "\t\tth {\n",
    "\t\t\tbackground-color: #4CAF50;\n",
    "\t\t\tcolor: white;\n",
    "\t\t}\n",
    "        h1 {\n",
    "\t\t\tfont-size: 32px;\n",
    "\t\t\ttext-align: center;\n",
    "\t\t\tcolor: #333;\n",
    "\t\t\tmargin-top: 20px;\n",
    "\t\t\tmargin-bottom: 20px;\n",
    "\t\t\ttext-transform: uppercase;\n",
    "\t\t}\n",
    "\n",
    "\t</style>\n",
    "</head>\n",
    "<body>\n",
    "\n",
    "\t<header>\n",
    "\t\t<h1>Visualización de Datos Tipo DataFrame</h1>\n",
    "\t</header>\n",
    "\n",
    "            \n",
    "            \n",
    "            \"\"\"\n",
    "        )\n",
    "        f.write(df.to_html())\n"
   ]
  },
  {
   "attachments": {},
   "cell_type": "markdown",
   "metadata": {},
   "source": [
    "**Limitaciones del modelo a implementar**\n",
    "\n",
    "Dependiendo el número de inscripciones se verá afectado el hecho de si se tienen que abrir más grupos o si se tienen que cerrar grupos. Otra limitación también es que el profesor asignado a una materia no pueda dar la clase de último minuto y entonces se quede sin profesor esa clase. El tener alumnos de transferencia de otros campos también puede desequilibrar los grupos ya que ocuparían espacios no contemplados. \n",
    "\n",
    "Además, debido a que se simplificó el modelo con respecto a los datos proporcionados por el socio formador, surgieron algunas otras limitaciones en el modelo. Los horarios asignados para cada materia fueron reemplazados por horarios libres, como se explicó anteriormente. \n",
    "\n",
    "Además, estas se tomaron como si fueran a dar en un solo periodo, en lugar de dividirlas en tres periodos diferentes. Por otro lado, para las materias denominadas “Bloques” se asignará solamente un profesor, cuando en la realidad estas materias las dan normalmente tres profesores. En relación a lo anterior, los profesores dentro del área de “reto”, fueron distribuidos en bloques aleatoriamente. Sin embargo, esto último también se debe a la ambigüedad de los datos, ya que es imposible saber exactamente qué materias podría dar un profesor de “reto”, más allá de que sean bloques."
   ]
  },
  {
   "attachments": {},
   "cell_type": "markdown",
   "metadata": {},
   "source": [
    "**Conclusiones**\n",
    "\n",
    "Con lo expuesto en el documento, se logró llegar a una modelación correcta del problema con las variables y restricciones correspondientes, en total hubo 5 restricciones que tenían relación con la materia que el profesor da, el idioma que habla, las horas máximas que puede dar , horas por unidad de formación y que cada clase tenga un profesor, con esto se pudo implementar un código en Python que nos arrojará el resultado del horario usando la librería Gurobi, este paso fue el que se complicó un poco, debido a que tomó más tiempo y análisis, debido a que al inicio la función objetivo y algunas restricciones se estaban aplicando de manera incorrecta, sin embargo, con el buen trabajo que se hizo en equipo y toda la investigación y documentación que se realizó sobre la librerías Gurobi se llegó a finalizar el entregable de manera correcta, el programa todavía puede hacerse más preciso, pero para esta entrega las restricciones que encontramos eran las adecuadas. "
   ]
  },
  {
   "attachments": {},
   "cell_type": "markdown",
   "metadata": {},
   "source": [
    "**Referencias**\n",
    "\n",
    "Gurobipy 10.0.1.(s.f) .PyPi. Recuperado de https://pypi.org/project/gurobipy/\n",
    "\n",
    "Gurobi Documentation.(s.f) .Gurobi Optimization. Recuperado de https://www.gurobi.com/documentation/\n",
    "\n",
    "Gurobi Machine Learning.(s.f) .Gurobi Optimization. Recuperado de https://gurobi-machinelearning.readthedocs.io/en/stable/\n"
   ]
  }
 ],
 "metadata": {
  "kernelspec": {
   "display_name": "Python 3",
   "language": "python",
   "name": "python3"
  },
  "language_info": {
   "codemirror_mode": {
    "name": "ipython",
    "version": 3
   },
   "file_extension": ".py",
   "mimetype": "text/x-python",
   "name": "python",
   "nbconvert_exporter": "python",
   "pygments_lexer": "ipython3",
   "version": "3.10.11"
  },
  "orig_nbformat": 4
 },
 "nbformat": 4,
 "nbformat_minor": 2
}
